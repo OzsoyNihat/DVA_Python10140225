{
 "cells": [
  {
   "cell_type": "markdown",
   "metadata": {},
   "source": [
    "# https://codeshare.io/64BRAo"
   ]
  },
  {
   "cell_type": "markdown",
   "metadata": {},
   "source": [
    "# print\n",
    "# input"
   ]
  },
  {
   "cell_type": "code",
   "execution_count": null,
   "metadata": {},
   "outputs": [],
   "source": [
    "a,b,c = 1,2,3\n",
    "print(a,b,c)"
   ]
  },
  {
   "cell_type": "code",
   "execution_count": null,
   "metadata": {},
   "outputs": [],
   "source": [
    "#Sayisal Veri Tipleri\n",
    "var1 = 2\n",
    "var2 = 2,5\n",
    "var3 = 2,4 + 4\n",
    "#------------Diziler\n",
    "var4 = \"DVA\"\n",
    "var5 =[\"D\",\"V\",\"A\"]\n",
    "var6 = (\"D\",\"V\",\"A\")\n",
    "#---------------Dieğerleri\n",
    "var7 = {\"D\":\"Digital\",\"V\":\"Vizyon\",\"A\":\"Akademi\"}\n",
    "var8 = {\"D\",\"V\",\"A\"}\n",
    "var9 = True\n"
   ]
  },
  {
   "cell_type": "code",
   "execution_count": 1,
   "metadata": {},
   "outputs": [
    {
     "name": "stdout",
     "output_type": "stream",
     "text": [
      "1 2 3\n"
     ]
    }
   ],
   "source": [
    "a,b,c = 1,2,3\n",
    "print(a,b,c)"
   ]
  },
  {
   "cell_type": "code",
   "execution_count": null,
   "metadata": {},
   "outputs": [],
   "source": []
  }
 ],
 "metadata": {
  "kernelspec": {
   "display_name": "Python 3",
   "language": "python",
   "name": "python3"
  },
  "language_info": {
   "codemirror_mode": {
    "name": "ipython",
    "version": 3
   },
   "file_extension": ".py",
   "mimetype": "text/x-python",
   "name": "python",
   "nbconvert_exporter": "python",
   "pygments_lexer": "ipython3",
   "version": "3.12.7"
  }
 },
 "nbformat": 4,
 "nbformat_minor": 2
}
