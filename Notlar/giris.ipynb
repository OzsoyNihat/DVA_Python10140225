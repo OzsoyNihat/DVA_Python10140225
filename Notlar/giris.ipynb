{
 "cells": [
  {
   "cell_type": "markdown",
   "metadata": {},
   "source": [
    "# https://codeshare.io/64BRAo"
   ]
  },
  {
   "cell_type": "markdown",
   "metadata": {},
   "source": [
    "# print\n",
    "# input"
   ]
  },
  {
   "cell_type": "code",
   "execution_count": null,
   "metadata": {},
   "outputs": [],
   "source": [
    "a,b,c = 1,2,3\n",
    "print(a,b,c)"
   ]
  },
  {
   "cell_type": "code",
   "execution_count": null,
   "metadata": {},
   "outputs": [],
   "source": [
    "#Sayisal Veri Tipleri\n",
    "var1 = 2\n",
    "var2 = 2,5\n",
    "var3 = 2,4 + 4\n",
    "#------------Diziler\n",
    "var4 = \"DVA\"\n",
    "var5 =[\"D\",\"V\",\"A\"]\n",
    "var6 = (\"D\",\"V\",\"A\")\n",
    "#---------------Dieğerleri\n",
    "var7 = {\"D\":\"Digital\",\"V\":\"Vizyon\",\"A\":\"Akademi\"}\n",
    "var8 = {\"D\",\"V\",\"A\"}\n",
    "var9 = True\n"
   ]
  },
  {
   "cell_type": "markdown",
   "metadata": {},
   "source": [
    "for i in range (20)"
   ]
  },
  {
   "cell_type": "code",
   "execution_count": null,
   "metadata": {},
   "outputs": [],
   "source": []
  },
  {
   "cell_type": "code",
   "execution_count": null,
   "metadata": {},
   "outputs": [],
   "source": [
    "a,b,c = 1,2,3\n",
    "print(a,b,c)"
   ]
  },
  {
   "cell_type": "code",
   "execution_count": null,
   "metadata": {},
   "outputs": [],
   "source": []
  }
 ],
 "metadata": {
  "language_info": {
   "name": "python"
  }
 },
 "nbformat": 4,
 "nbformat_minor": 2
}
