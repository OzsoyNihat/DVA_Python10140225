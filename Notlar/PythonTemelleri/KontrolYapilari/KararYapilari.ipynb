{
 "cells": [
  {
   "cell_type": "markdown",
   "metadata": {},
   "source": [
    "# Karar Yapıları\n",
    "* if else\n",
    "* elif\n",
    "* match case\n",
    "* Tek satırda if"
   ]
  },
  {
   "cell_type": "code",
   "execution_count": 2,
   "metadata": {},
   "outputs": [
    {
     "data": {
      "text/plain": [
       "False"
      ]
     },
     "execution_count": 2,
     "metadata": {},
     "output_type": "execute_result"
    }
   ],
   "source": [
    "a = 5\n",
    "a % 2 == 0"
   ]
  },
  {
   "cell_type": "code",
   "execution_count": 4,
   "metadata": {},
   "outputs": [
    {
     "name": "stdout",
     "output_type": "stream",
     "text": [
      "Tek\n"
     ]
    }
   ],
   "source": [
    "a = 5\n",
    "if a % 2 == 0:\n",
    "    print(\"Çift\")\n",
    "else:\n",
    "    print(\"Tek\")\n"
   ]
  },
  {
   "cell_type": "code",
   "execution_count": 6,
   "metadata": {},
   "outputs": [
    {
     "name": "stdout",
     "output_type": "stream",
     "text": [
      "Şanslısınız\n"
     ]
    }
   ],
   "source": [
    "gsymh = 3000\n",
    "if gsymh <= 1000:\n",
    "    print(\"Yoksulsunuz\")\n",
    "else:\n",
    "    print(\"Şanslısınız\")"
   ]
  },
  {
   "cell_type": "code",
   "execution_count": 11,
   "metadata": {},
   "outputs": [
    {
     "name": "stdout",
     "output_type": "stream",
     "text": [
      "Şanslısınız\n"
     ]
    }
   ],
   "source": [
    "gsymh = input(\"GSYMH Bilgisi Giriniz:\")\n",
    "if gsymh.isdigit():\n",
    "    gsymh = int(gsymh)\n",
    "    if gsymh <= 1000:\n",
    "        print(\"Yoksulsunuz\")\n",
    "    else:\n",
    "        print(\"Şanslısınız\")\n",
    "else:\n",
    "    print(\"Yanlış Giriş\")"
   ]
  },
  {
   "cell_type": "code",
   "execution_count": 8,
   "metadata": {},
   "outputs": [
    {
     "data": {
      "text/plain": [
       "True"
      ]
     },
     "execution_count": 8,
     "metadata": {},
     "output_type": "execute_result"
    }
   ],
   "source": [
    "\"\"\"\n",
    "85-100 AA\n",
    "70-84  BB\n",
    "55-69  CC\n",
    "\"\"\"\n",
    "notu = int(input(\"Notunuzu Giriniz:\"))\n",
    "if 85 <= notu <= 100:\n",
    "    print(\"AA\")\n",
    "else:\n",
    "    if 70 <= notu <= 84:\n",
    "        print(\"BB\")\n",
    "    else:\n",
    "        if 55 <= notu <= 69:\n",
    "            print(\"CC\")\n",
    "        else:\n",
    "            print(\"Not Yok\")\n"
   ]
  },
  {
   "cell_type": "code",
   "execution_count": null,
   "metadata": {},
   "outputs": [],
   "source": [
    "notu = int(input(\"Notunuzu Giriniz:\"))\n",
    "if 85 <= notu <= 100:\n",
    "    print(\"AA\")\n",
    "elif 70 <= notu <= 84:\n",
    "    print(\"BB\")\n",
    "elif 55 <= notu <= 69:\n",
    "    print(\"CC\")\n",
    "else:\n",
    "    print(\"Not Yok\")"
   ]
  },
  {
   "cell_type": "code",
   "execution_count": 12,
   "metadata": {},
   "outputs": [
    {
     "name": "stdout",
     "output_type": "stream",
     "text": [
      "It's 10\n"
     ]
    }
   ],
   "source": [
    "x = 10\n",
    "match x:\n",
    "    case 10:\n",
    "        print(\"It's 10\")\n",
    "    case 20:\n",
    "        print(\"It's 20\")\n",
    "    case _:\n",
    "        print(\"It's neither 10 nor 20\")"
   ]
  },
  {
   "cell_type": "code",
   "execution_count": 13,
   "metadata": {},
   "outputs": [
    {
     "name": "stdout",
     "output_type": "stream",
     "text": [
      "Çift\n"
     ]
    }
   ],
   "source": [
    "a = 2\n",
    "sonuc = \"Çift\" if a % 2 == 0 else \"Tek\"\n",
    "print(sonuc)"
   ]
  },
  {
   "cell_type": "code",
   "execution_count": null,
   "metadata": {},
   "outputs": [],
   "source": []
  }
 ],
 "metadata": {
  "kernelspec": {
   "display_name": "Python 3",
   "language": "python",
   "name": "python3"
  },
  "language_info": {
   "codemirror_mode": {
    "name": "ipython",
    "version": 3
   },
   "file_extension": ".py",
   "mimetype": "text/x-python",
   "name": "python",
   "nbconvert_exporter": "python",
   "pygments_lexer": "ipython3",
   "version": "3.12.7"
  }
 },
 "nbformat": 4,
 "nbformat_minor": 2
}
