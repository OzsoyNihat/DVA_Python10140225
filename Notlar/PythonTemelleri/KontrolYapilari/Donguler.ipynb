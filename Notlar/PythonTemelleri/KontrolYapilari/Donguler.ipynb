{
 "cells": [
  {
   "cell_type": "markdown",
   "metadata": {},
   "source": [
    "# Döngüler\n",
    "* range\n",
    "* for\n",
    "* break\n",
    "* while\n",
    "* continue\n",
    "* else"
   ]
  },
  {
   "cell_type": "code",
   "execution_count": 1,
   "metadata": {},
   "outputs": [
    {
     "data": {
      "text/plain": [
       "range(1, 10)"
      ]
     },
     "execution_count": 1,
     "metadata": {},
     "output_type": "execute_result"
    }
   ],
   "source": [
    "# range\n",
    "range(1,10)"
   ]
  },
  {
   "cell_type": "code",
   "execution_count": 2,
   "metadata": {},
   "outputs": [
    {
     "name": "stdout",
     "output_type": "stream",
     "text": [
      "range(1, 10)\n"
     ]
    }
   ],
   "source": [
    "print(range(1,10))"
   ]
  },
  {
   "cell_type": "code",
   "execution_count": 6,
   "metadata": {},
   "outputs": [
    {
     "name": "stdout",
     "output_type": "stream",
     "text": [
      "1 2 3 4 5 6 7 8 9\n"
     ]
    }
   ],
   "source": [
    "print(*range(1,10)) # * unpack operator"
   ]
  },
  {
   "cell_type": "code",
   "execution_count": 7,
   "metadata": {},
   "outputs": [
    {
     "name": "stdout",
     "output_type": "stream",
     "text": [
      "0 1 2 3 4 5 6 7 8 9\n"
     ]
    }
   ],
   "source": [
    "print(*range(10))"
   ]
  },
  {
   "cell_type": "code",
   "execution_count": 9,
   "metadata": {},
   "outputs": [
    {
     "name": "stdout",
     "output_type": "stream",
     "text": [
      "10 9 8 7 6 5 4 3 2 1\n"
     ]
    }
   ],
   "source": [
    "print(*range(10,0,-1))"
   ]
  },
  {
   "cell_type": "code",
   "execution_count": 10,
   "metadata": {},
   "outputs": [
    {
     "name": "stdout",
     "output_type": "stream",
     "text": [
      "10 20 30 40 50 60 70 80 90\n"
     ]
    }
   ],
   "source": [
    "print(*range(10,100,10))"
   ]
  },
  {
   "cell_type": "code",
   "execution_count": 11,
   "metadata": {},
   "outputs": [
    {
     "data": {
      "text/plain": [
       "'D'"
      ]
     },
     "execution_count": 11,
     "metadata": {},
     "output_type": "execute_result"
    }
   ],
   "source": [
    "metin = \"DVA Python\"\n",
    "#        0123456789\n",
    "metin[0]"
   ]
  },
  {
   "cell_type": "code",
   "execution_count": 13,
   "metadata": {},
   "outputs": [
    {
     "name": "stdout",
     "output_type": "stream",
     "text": [
      "0 1 2 3 4 5 6 7 8 9 "
     ]
    }
   ],
   "source": [
    "## for\n",
    "metin = \"DVA Python\"\n",
    "for i in range(10):\n",
    "    print(i,end=\" \")"
   ]
  },
  {
   "cell_type": "code",
   "execution_count": 14,
   "metadata": {},
   "outputs": [
    {
     "data": {
      "text/plain": [
       "10"
      ]
     },
     "execution_count": 14,
     "metadata": {},
     "output_type": "execute_result"
    }
   ],
   "source": [
    "len(metin)"
   ]
  },
  {
   "cell_type": "code",
   "execution_count": 18,
   "metadata": {},
   "outputs": [
    {
     "name": "stdout",
     "output_type": "stream",
     "text": [
      "DDDDDDDDDD\n",
      "VVVVVVVVVV\n",
      "AAAAAAAAAA\n",
      "          \n",
      "PPPPPPPPPP\n",
      "yyyyyyyyyy\n",
      "tttttttttt\n",
      "hhhhhhhhhh\n",
      "oooooooooo\n",
      "nnnnnnnnnn\n"
     ]
    }
   ],
   "source": [
    "metin = \"DVA Python\"\n",
    "for i in range(len(metin)):\n",
    "    print(metin[i]*10)"
   ]
  },
  {
   "cell_type": "code",
   "execution_count": 16,
   "metadata": {},
   "outputs": [
    {
     "name": "stdout",
     "output_type": "stream",
     "text": [
      "çi  pet pet pet\n"
     ]
    }
   ],
   "source": [
    "# print(\"çi\",\" pet\"*3)"
   ]
  },
  {
   "cell_type": "code",
   "execution_count": 19,
   "metadata": {},
   "outputs": [
    {
     "name": "stdout",
     "output_type": "stream",
     "text": [
      "D\n",
      "V\n",
      "A\n",
      " \n",
      "P\n",
      "y\n",
      "t\n",
      "h\n",
      "o\n",
      "n\n"
     ]
    }
   ],
   "source": [
    "metin = \"DVA Python\"\n",
    "for item in metin:\n",
    "    print(item)"
   ]
  },
  {
   "cell_type": "code",
   "execution_count": 21,
   "metadata": {},
   "outputs": [
    {
     "name": "stdout",
     "output_type": "stream",
     "text": [
      "1\n",
      "2\n",
      "3\n",
      "4\n"
     ]
    }
   ],
   "source": [
    "liste = [1,2,3,4]\n",
    "for item in liste:\n",
    "    print(item)"
   ]
  },
  {
   "cell_type": "code",
   "execution_count": 22,
   "metadata": {},
   "outputs": [
    {
     "name": "stdout",
     "output_type": "stream",
     "text": [
      "1\n",
      "2\n",
      "3\n",
      "4\n"
     ]
    }
   ],
   "source": [
    "demet = (1,2,3,4)\n",
    "for item in demet:\n",
    "    print(item)"
   ]
  },
  {
   "cell_type": "code",
   "execution_count": 23,
   "metadata": {},
   "outputs": [
    {
     "name": "stdout",
     "output_type": "stream",
     "text": [
      "D\n",
      "V\n",
      "A\n"
     ]
    }
   ],
   "source": [
    "sozluk = {\"D\":\"Dijital\",\"V\":\"Vizyon\",\"A\":\"Akademi\"}\n",
    "for item in sozluk:\n",
    "    print(item)"
   ]
  },
  {
   "cell_type": "code",
   "execution_count": 24,
   "metadata": {},
   "outputs": [
    {
     "name": "stdout",
     "output_type": "stream",
     "text": [
      "('D', 'Dijital')\n",
      "('V', 'Vizyon')\n",
      "('A', 'Akademi')\n"
     ]
    }
   ],
   "source": [
    "sozluk = {\"D\":\"Dijital\",\"V\":\"Vizyon\",\"A\":\"Akademi\"}\n",
    "for item in sozluk.items():\n",
    "    print(item)"
   ]
  },
  {
   "cell_type": "code",
   "execution_count": 26,
   "metadata": {},
   "outputs": [
    {
     "name": "stdout",
     "output_type": "stream",
     "text": [
      "D Dijital\n"
     ]
    }
   ],
   "source": [
    "a,b = ('D', 'Dijital')\n",
    "print(a,b)"
   ]
  },
  {
   "cell_type": "code",
   "execution_count": 27,
   "metadata": {},
   "outputs": [
    {
     "name": "stdout",
     "output_type": "stream",
     "text": [
      "D Dijital\n",
      "V Vizyon\n",
      "A Akademi\n"
     ]
    }
   ],
   "source": [
    "sozluk = {\"D\":\"Dijital\",\"V\":\"Vizyon\",\"A\":\"Akademi\"}\n",
    "for key,value in sozluk.items():\n",
    "    print(key,value)"
   ]
  },
  {
   "cell_type": "code",
   "execution_count": 32,
   "metadata": {},
   "outputs": [
    {
     "name": "stdout",
     "output_type": "stream",
     "text": [
      "4534 Buldum 3535\n"
     ]
    }
   ],
   "source": [
    "# break\n",
    "sifre = int(input(\"4 haneli şifre yaz\"))\n",
    "a = 0\n",
    "for i in range(1000,9999):\n",
    "    a += 1\n",
    "    if i == sifre:\n",
    "        print(sifre,\"Buldum\",a)\n",
    "        break"
   ]
  },
  {
   "cell_type": "code",
   "execution_count": 38,
   "metadata": {},
   "outputs": [
    {
     "name": "stdout",
     "output_type": "stream",
     "text": [
      "* \n",
      "* * \n",
      "* * * \n",
      "* * * * \n",
      "* * * * * \n",
      "* * * * \n",
      "* * * \n",
      "* * \n",
      "* \n"
     ]
    }
   ],
   "source": [
    "n = 5\n",
    "for i in range(1,n):\n",
    "    print(\"* \"*i)\n",
    "for j in range(n,0,-1):\n",
    "    print(\"* \"*j)\n"
   ]
  },
  {
   "cell_type": "code",
   "execution_count": 88,
   "metadata": {},
   "outputs": [
    {
     "name": "stdout",
     "output_type": "stream",
     "text": [
      "     *\n",
      "    ***\n",
      "   *****\n",
      "  *******\n",
      " *********\n",
      "***********\n",
      " *********\n",
      "  *******\n",
      "   *****\n",
      "    ***\n",
      "     *\n"
     ]
    }
   ],
   "source": [
    "n = int(input(\"Sayı giriniz:\"))\n",
    "for i in range(n):\n",
    "    print(\" \"*(n-i-1),\"*\"*(2*i+1),sep=\"\")\n",
    "for i in range(n-2,-1,-1):\n",
    "    print(\" \"*(n-i-1),\"*\"*(2*i+1),sep=\"\")   "
   ]
  },
  {
   "cell_type": "code",
   "execution_count": 91,
   "metadata": {},
   "outputs": [
    {
     "data": {
      "text/plain": [
       "str"
      ]
     },
     "execution_count": 91,
     "metadata": {},
     "output_type": "execute_result"
    }
   ],
   "source": [
    "type(bin(7))"
   ]
  },
  {
   "cell_type": "code",
   "execution_count": 95,
   "metadata": {},
   "outputs": [],
   "source": [
    "a,b,c,d,e,f,g =  bin(7)[2:].zfill(7)"
   ]
  },
  {
   "attachments": {
    "image.png": {
     "image/png": "[encoded data removed]"
    }
   },
   "cell_type": "markdown",
   "metadata": {},
   "source": [
    "![image.png](attachment:image.png)"
   ]
  },
  {
   "cell_type": "code",
   "execution_count": null,
   "metadata": {},
   "outputs": [],
   "source": []
  },
  {
   "cell_type": "code",
   "execution_count": 30,
   "metadata": {},
   "outputs": [],
   "source": [
    "g = \"0\""
   ]
  },
  {
   "cell_type": "code",
   "execution_count": 16,
   "metadata": {},
   "outputs": [
    {
     "data": {
      "text/plain": [
       "('1', '1', '0', '1', '1', '0', '1')"
      ]
     },
     "execution_count": 16,
     "metadata": {},
     "output_type": "execute_result"
    }
   ],
   "source": [
    "sozluk = {\"1\":48,\"2\":109}\n",
    "a,b,c,d,e,f,g =  bin(sozluk.get(\"2\"))[2:].zfill(7)\n",
    "a,b,c,d,e,f,g"
   ]
  },
  {
   "cell_type": "code",
   "execution_count": 17,
   "metadata": {},
   "outputs": [
    {
     "name": "stdout",
     "output_type": "stream",
     "text": [
      "#####\n",
      "    #\n",
      "#####\n",
      "#    \n",
      "#####\n"
     ]
    }
   ],
   "source": [
    "print((\"#\" if int(a) else \" \")*5)\n",
    "print((\"#\" if int(f) else \" \"),\" \",(\"#\" if int(b) else \" \"))\n",
    "print((\"#\" if int(g) else \" \")*5)\n",
    "print((\"#\" if int(e) else \" \"),\" \",(\"#\" if int(c) else \" \"))\n",
    "print((\"#\" if int(d) else \" \")*5)\n",
    "\n"
   ]
  },
  {
   "cell_type": "code",
   "execution_count": 18,
   "metadata": {},
   "outputs": [],
   "source": [
    "anahtar = 1\n",
    "while anahtar != 0:\n",
    "    if input(\"Tamam/Devam :\").lower() == \"t\":\n",
    "        anahtar = 0\n",
    "print(\"Döngü Bitti\")"
   ]
  },
  {
   "cell_type": "code",
   "execution_count": 20,
   "metadata": {},
   "outputs": [],
   "source": [
    "anahtar = 1\n",
    "while anahtar != 0:\n",
    "    if input(\"Tamam/Devam :\").lower() == \"t\":\n",
    "        anahtar = 0\n",
    "        break\n",
    "else:\n",
    "    print(\"Döngü bitti\")\n"
   ]
  },
  {
   "cell_type": "code",
   "execution_count": 21,
   "metadata": {},
   "outputs": [
    {
     "name": "stdout",
     "output_type": "stream",
     "text": [
      "abcdefghijklmnopqrstuvwxyz\n"
     ]
    }
   ],
   "source": []
  },
  {
   "cell_type": "code",
   "execution_count": 25,
   "metadata": {},
   "outputs": [
    {
     "data": {
      "text/plain": [
       "'E'"
      ]
     },
     "execution_count": 25,
     "metadata": {},
     "output_type": "execute_result"
    }
   ],
   "source": [
    "# from random import choice\n",
    "# from string import ascii_lowercase,ascii_uppercase,punctuation,digits\n",
    "\n",
    "\n",
    "# 1. En az 8 karakter uzunluğunda\n",
    "# 2. En az 1 Rakam \n",
    "# 3. En az 1 Küçük Harf \n",
    "# 4. En az 1 Büyük Harf\n",
    "# 5. En az 1 Noktalama\n",
    "# 6. Kharf ve Bharf yan yana gelmesin Numara ve kHarf yan yana gelmesin\n"
   ]
  },
  {
   "cell_type": "code",
   "execution_count": null,
   "metadata": {},
   "outputs": [],
   "source": []
  }
 ],
 "metadata": {
  "kernelspec": {
   "display_name": "Python 3",
   "language": "python",
   "name": "python3"
  },
  "language_info": {
   "codemirror_mode": {
    "name": "ipython",
    "version": 3
   },
   "file_extension": ".py",
   "mimetype": "text/x-python",
   "name": "python",
   "nbconvert_exporter": "python",
   "pygments_lexer": "ipython3",
   "version": "3.12.7"
  }
 },
 "nbformat": 4,
 "nbformat_minor": 2
}
