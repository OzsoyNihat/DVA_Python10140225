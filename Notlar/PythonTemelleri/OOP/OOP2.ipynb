{
 "cells": [
  {
   "cell_type": "markdown",
   "metadata": {},
   "source": [
    "# OOP2\n",
    "* Inheritance\n",
    "* Polymorphism\n",
    "* Encapsulation\n",
    "* Abstraction\n"
   ]
  },
  {
   "cell_type": "markdown",
   "metadata": {},
   "source": [
    "## Encapsulation"
   ]
  },
  {
   "cell_type": "code",
   "execution_count": 30,
   "metadata": {},
   "outputs": [],
   "source": [
    "## Encapsulation\n",
    "class Sinif:\n",
    "    sinifOzelligi = \"Sınıf Özelliği\"\n",
    "    def __init__(self,yetki):\n",
    "       self.yetki = yetki\n",
    "       self.__gizli = \"Gizli Bilgi\"\n",
    "    # getter\n",
    "    @property\n",
    "    def gizli(self):\n",
    "        if self.yetki == 1:\n",
    "            return self.__gizli\n",
    "        else:\n",
    "            raise Exception(\"Yetki Hatası\")\n",
    "    \n",
    "    @gizli.setter\n",
    "    def gizli(self,param):\n",
    "        if type(param) == int:\n",
    "            if param in range(1,20):\n",
    "                self.__gizli = param\n",
    "            else:\n",
    "                raise Exception(\"Limit Hatası\")\n",
    "        else:\n",
    "            raise ValueError(\"Değer Hatası\")\n",
    "\n",
    "    @gizli.deleter\n",
    "    def gizli(self):\n",
    "        self.__gizli*=-1\n",
    "    \n",
    "    def ornekMethod(self):\n",
    "        print(self.ornekOzellik)\n",
    "\n",
    "    def sinifMethod(cls):\n",
    "        print(cls.sinifOzelligi)"
   ]
  },
  {
   "cell_type": "code",
   "execution_count": 31,
   "metadata": {},
   "outputs": [
    {
     "name": "stdout",
     "output_type": "stream",
     "text": [
      "2\n",
      "-2\n"
     ]
    }
   ],
   "source": [
    "obj1 = Sinif(1)\n",
    "obj1.gizli = 2\n",
    "print(obj1.gizli)\n",
    "del obj1.gizli\n",
    "print(obj1.gizli)"
   ]
  },
  {
   "cell_type": "code",
   "execution_count": null,
   "metadata": {},
   "outputs": [],
   "source": []
  }
 ],
 "metadata": {
  "kernelspec": {
   "display_name": "Python 3",
   "language": "python",
   "name": "python3"
  },
  "language_info": {
   "codemirror_mode": {
    "name": "ipython",
    "version": 3
   },
   "file_extension": ".py",
   "mimetype": "text/x-python",
   "name": "python",
   "nbconvert_exporter": "python",
   "pygments_lexer": "ipython3",
   "version": "3.12.7"
  }
 },
 "nbformat": 4,
 "nbformat_minor": 2
}
