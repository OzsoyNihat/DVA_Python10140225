{
 "cells": [
  {
   "cell_type": "markdown",
   "metadata": {},
   "source": [
    "# OOP2\n",
    "* Inheritance\n",
    "* Polymorphism\n",
    "* Encapsulation\n",
    "* Abstraction\n"
   ]
  },
  {
   "cell_type": "markdown",
   "metadata": {},
   "source": [
    "## Encapsulation"
   ]
  },
  {
   "cell_type": "code",
   "execution_count": 2,
   "metadata": {},
   "outputs": [],
   "source": [
    "## Encapsulation\n",
    "class Sinif:\n",
    "    sinifOzelligi = \"Sınıf Özelliği\"\n",
    "    def __init__(self,yetki):\n",
    "       self.yetki = yetki\n",
    "       self.__gizli = \"Gizli Bilgi\"\n",
    "    # getter\n",
    "    @property\n",
    "    def gizli(self):\n",
    "        if self.yetki == 1:\n",
    "            return self.__gizli\n",
    "        else:\n",
    "            raise Exception(\"Yetki Hatası\")\n",
    "    \n",
    "    @gizli.setter\n",
    "    def gizli(self,param):\n",
    "        if type(param) == int:\n",
    "            if param in range(1,20):\n",
    "                self.__gizli = param\n",
    "            else:\n",
    "                raise Exception(\"Limit Hatası\")\n",
    "        else:\n",
    "            raise ValueError(\"Değer Hatası\")\n",
    "\n",
    "    @gizli.deleter\n",
    "    def gizli(self):\n",
    "        self.__gizli*=-1\n",
    "    \n",
    "    def ornekMethod(self):\n",
    "        print(self.ornekOzellik)\n",
    "\n",
    "    def sinifMethod(cls):\n",
    "        print(cls.sinifOzelligi)\n",
    "\n",
    "    def __del__(self):\n",
    "        print(\"ASTALA VİSTA BABY!\")"
   ]
  },
  {
   "cell_type": "code",
   "execution_count": 3,
   "metadata": {},
   "outputs": [
    {
     "name": "stdout",
     "output_type": "stream",
     "text": [
      "2\n",
      "-2\n",
      "ASTALA VİSTA BABY!\n"
     ]
    }
   ],
   "source": [
    "obj1 = Sinif(1)\n",
    "obj1.gizli = 2\n",
    "print(obj1.gizli)\n",
    "del obj1.gizli\n",
    "print(obj1.gizli)\n",
    "del obj1"
   ]
  },
  {
   "cell_type": "markdown",
   "metadata": {},
   "source": [
    "## Inheritance"
   ]
  },
  {
   "cell_type": "code",
   "execution_count": 9,
   "metadata": {},
   "outputs": [
    {
     "name": "stdout",
     "output_type": "stream",
     "text": [
      "B\n",
      "A Sınıfından Çalıştım\n",
      "A\n"
     ]
    }
   ],
   "source": [
    "class A:\n",
    "    def __init__(self):\n",
    "        self.a = \"A\"\n",
    "    \n",
    "    def soyleA(self):\n",
    "        print(self.a)\n",
    "\n",
    "    def soyle(self):\n",
    "        print(\"A Sınıfından Çalıştım\")\n",
    "\n",
    "class B(A):\n",
    "    def __init__(self):\n",
    "        super().__init__()\n",
    "        self.b = \"B\"\n",
    "\n",
    "    def soyleB(self):\n",
    "        print(self.b)\n",
    "objB = B()\n",
    "objB.soyleB()\n",
    "objB.soyle()\n",
    "objB.soyleA()"
   ]
  },
  {
   "cell_type": "code",
   "execution_count": 6,
   "metadata": {},
   "outputs": [
    {
     "name": "stdout",
     "output_type": "stream",
     "text": [
      "B Sınıfından Çalıştım\n"
     ]
    }
   ],
   "source": [
    "class A:\n",
    "    def __init__(self):\n",
    "        self.a = \"A\"\n",
    "    \n",
    "    def soyleA(self):\n",
    "        print(self.a)\n",
    "\n",
    "    def soyle(self):\n",
    "        print(\"A Sınıfından Çalıştım\")\n",
    "\n",
    "class B:\n",
    "    def __init__(self):\n",
    "        self.b = \"B\"\n",
    "    \n",
    "    def soyleB(self):\n",
    "        print(self.b)\n",
    "\n",
    "    def soyle(self):\n",
    "        print(\"B Sınıfından Çalıştım\")\n",
    "\n",
    "\n",
    "class C(A,B):\n",
    "    def __init__(self):\n",
    "        A.__init__(self)\n",
    "        B.__init__(self)\n",
    "\n",
    "obj1 = C()\n",
    "obj1.soyle()"
   ]
  },
  {
   "cell_type": "markdown",
   "metadata": {},
   "source": [
    "## Polymorphism"
   ]
  },
  {
   "cell_type": "code",
   "execution_count": 8,
   "metadata": {},
   "outputs": [
    {
     "name": "stdout",
     "output_type": "stream",
     "text": [
      "B\n",
      "A Sınıfından Çalıştım\n",
      "A\n"
     ]
    }
   ],
   "source": [
    "class A:\n",
    "    def __init__(self):\n",
    "        self.a = \"A\"\n",
    "    \n",
    "    def soyleA(self):\n",
    "        print(self.a)\n",
    "\n",
    "    def soyle(self):\n",
    "        print(\"A Sınıfından Çalıştım\")\n",
    "\n",
    "class B(A):\n",
    "    def __init__(self): #overriding\n",
    "        super().__init__()\n",
    "        self.b = \"B\"\n",
    "\n",
    "    def soyleB(self):\n",
    "        print(self.b)\n",
    "objB = B()\n",
    "objB.soyleB()\n",
    "objB.soyle()\n",
    "objB.soyleA()"
   ]
  },
  {
   "cell_type": "code",
   "execution_count": 9,
   "metadata": {},
   "outputs": [
    {
     "name": "stdout",
     "output_type": "stream",
     "text": [
      "A\n",
      "A\n"
     ]
    }
   ],
   "source": [
    "obj1 = B()\n",
    "obj2 = B()\n",
    "def fonk(obj):\n",
    "    obj.soyleA()\n",
    "for item in [obj1,obj2]:\n",
    "    fonk(item)\n"
   ]
  },
  {
   "cell_type": "code",
   "execution_count": 11,
   "metadata": {},
   "outputs": [
    {
     "name": "stdout",
     "output_type": "stream",
     "text": [
      "Yakıt Aldı\n"
     ]
    }
   ],
   "source": [
    "from abc import ABC,abstractmethod\n",
    "class Arac(ABC):\n",
    "    @abstractmethod\n",
    "    def yakitAl(self):\n",
    "        pass\n",
    "\n",
    "class KaraAraclari(Arac):\n",
    "    def yakitAl(self):\n",
    "        print(\"Yakıt Aldı\")\n",
    "\n",
    "obj1 = KaraAraclari()\n",
    "obj1.yakitAl()\n"
   ]
  },
  {
   "cell_type": "code",
   "execution_count": 3,
   "metadata": {},
   "outputs": [
    {
     "name": "stdout",
     "output_type": "stream",
     "text": [
      "120\n",
      "fonk 1.0002384185791016 sürede çalıştı\n"
     ]
    }
   ],
   "source": [
    "import time\n",
    "def zaman(fonk):\n",
    "    def icfonk(*args,**kwargs):\n",
    "        baslangic = time.time()\n",
    "        time.sleep(1)\n",
    "        fonk(*args,**kwargs)\n",
    "        bitis = time.time()\n",
    "        print(f\"{fonk.__name__} {bitis-baslangic} sürede çalıştı\")\n",
    "    return icfonk\n",
    "@zaman\n",
    "def fonk(n):\n",
    "    sonuc = 1\n",
    "    for i in range(1,n+1):\n",
    "        sonuc *= i\n",
    "    print(sonuc)\n",
    "fonk(5)"
   ]
  },
  {
   "cell_type": "code",
   "execution_count": null,
   "metadata": {},
   "outputs": [],
   "source": []
  },
  {
   "cell_type": "code",
   "execution_count": null,
   "metadata": {},
   "outputs": [],
   "source": []
  }
 ],
 "metadata": {
  "kernelspec": {
   "display_name": "Python 3",
   "language": "python",
   "name": "python3"
  },
  "language_info": {
   "codemirror_mode": {
    "name": "ipython",
    "version": 3
   },
   "file_extension": ".py",
   "mimetype": "text/x-python",
   "name": "python",
   "nbconvert_exporter": "python",
   "pygments_lexer": "ipython3",
   "version": "3.12.7"
  }
 },
 "nbformat": 4,
 "nbformat_minor": 2
}
