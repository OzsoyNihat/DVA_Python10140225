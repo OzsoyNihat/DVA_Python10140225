{
 "cells": [
  {
   "cell_type": "markdown",
   "metadata": {},
   "source": [
    "# Hata Yakalama\n",
    "* try except\n",
    "* exception hierarchy\n",
    "* finally\n",
    "* raise"
   ]
  },
  {
   "cell_type": "markdown",
   "metadata": {},
   "source": [
    "## try"
   ]
  },
  {
   "cell_type": "code",
   "execution_count": 3,
   "metadata": {},
   "outputs": [
    {
     "name": "stdout",
     "output_type": "stream",
     "text": [
      "2.5\n"
     ]
    }
   ],
   "source": [
    "a = int(input(\"1. Sayıyı Giriniz:\"))\n",
    "b = int(input(\"2. Sayıyı Giriniz:\"))\n",
    "print(a/b) # ValueError,ZeroDivisionError"
   ]
  },
  {
   "cell_type": "code",
   "execution_count": 6,
   "metadata": {},
   "outputs": [
    {
     "name": "stdout",
     "output_type": "stream",
     "text": [
      "Hata var\n",
      "Çalışmaya devam\n"
     ]
    }
   ],
   "source": [
    "try:\n",
    "    a = int(input(\"1. Sayıyı Giriniz:\"))\n",
    "    b = int(input(\"2. Sayıyı Giriniz:\"))\n",
    "    print(a/b)\n",
    "except:\n",
    "    print(\"Hata var\")\n",
    "print(\"Çalışmaya devam\")"
   ]
  },
  {
   "cell_type": "code",
   "execution_count": 7,
   "metadata": {},
   "outputs": [
    {
     "name": "stdout",
     "output_type": "stream",
     "text": [
      "Hata var Hata Mesajı: division by zero\n",
      "Çalışmaya devam\n"
     ]
    }
   ],
   "source": [
    "try:\n",
    "    a = int(input(\"1. Sayıyı Giriniz:\"))\n",
    "    b = int(input(\"2. Sayıyı Giriniz:\"))\n",
    "    print(a/b)\n",
    "except Exception as hata:\n",
    "    print(\"Hata var Hata Mesajı:\",hata)\n",
    "print(\"Çalışmaya devam\")"
   ]
  },
  {
   "cell_type": "code",
   "execution_count": 9,
   "metadata": {},
   "outputs": [
    {
     "name": "stdout",
     "output_type": "stream",
     "text": [
      "Sıfıra Bölme Hatası\n",
      "Çalışmaya devam\n"
     ]
    }
   ],
   "source": [
    "try:\n",
    "    a = int(input(\"1. Sayıyı Giriniz:\"))\n",
    "    b = int(input(\"2. Sayıyı Giriniz:\"))\n",
    "    print(a/b)\n",
    "except ValueError:\n",
    "    print(\"Yanlış Giriş Yapıldı\")\n",
    "except ZeroDivisionError:\n",
    "    print(\"Sıfıra Bölme Hatası\")\n",
    "except Exception as hata:\n",
    "    print(\"Genel Hata:\",hata)\n",
    "print(\"Çalışmaya devam\")"
   ]
  },
  {
   "cell_type": "markdown",
   "metadata": {},
   "source": [
    "## Exception Hieararchy\n"
   ]
  },
  {
   "cell_type": "code",
   "execution_count": 10,
   "metadata": {},
   "outputs": [
    {
     "name": "stdout",
     "output_type": "stream",
     "text": [
      "Genel Hata: division by zero\n",
      "Çalışmaya devam\n"
     ]
    }
   ],
   "source": [
    "try:\n",
    "    a = int(input(\"1. Sayıyı Giriniz:\"))\n",
    "    b = int(input(\"2. Sayıyı Giriniz:\"))\n",
    "    print(a/b)\n",
    "except Exception as hata:\n",
    "    print(\"Genel Hata:\",hata)\n",
    "except ValueError:\n",
    "    print(\"Yanlış Giriş Yapıldı\")\n",
    "except ZeroDivisionError:\n",
    "    print(\"Sıfıra Bölme Hatası\")\n",
    "print(\"Çalışmaya devam\")"
   ]
  },
  {
   "cell_type": "code",
   "execution_count": 12,
   "metadata": {},
   "outputs": [
    {
     "name": "stdout",
     "output_type": "stream",
     "text": [
      "Genel Hata: division by zero\n",
      "İşlem Sona Erdi\n",
      "Çalışmaya devam\n"
     ]
    }
   ],
   "source": [
    "try:\n",
    "    a = int(input(\"1. Sayıyı Giriniz:\"))\n",
    "    b = int(input(\"2. Sayıyı Giriniz:\"))\n",
    "    print(a/b)\n",
    "except Exception as hata:\n",
    "    print(\"Genel Hata:\",hata)\n",
    "except ValueError:\n",
    "    print(\"Yanlış Giriş Yapıldı\")\n",
    "except ZeroDivisionError:\n",
    "    print(\"Sıfıra Bölme Hatası\")\n",
    "finally:\n",
    "    print(\"İşlem Sona Erdi\")\n",
    "print(\"Çalışmaya devam\")"
   ]
  },
  {
   "cell_type": "code",
   "execution_count": 14,
   "metadata": {},
   "outputs": [
    {
     "name": "stdout",
     "output_type": "stream",
     "text": [
      "İşlem Sona Erdi\n"
     ]
    },
    {
     "data": {
      "text/plain": [
       "2.5"
      ]
     },
     "execution_count": 14,
     "metadata": {},
     "output_type": "execute_result"
    }
   ],
   "source": [
    "def bolme():\n",
    "    try:\n",
    "        a = int(input(\"1. Sayıyı Giriniz:\"))\n",
    "        b = int(input(\"2. Sayıyı Giriniz:\"))\n",
    "        return a/b\n",
    "    except Exception as hata:\n",
    "        print(\"Genel Hata:\",hata)\n",
    "    except ValueError:\n",
    "        print(\"Yanlış Giriş Yapıldı\")\n",
    "    except ZeroDivisionError:\n",
    "        print(\"Sıfıra Bölme Hatası\")\n",
    "    finally:\n",
    "        print(\"İşlem Sona Erdi\")\n",
    "    print(\"Çalışmaya devam\")\n",
    "bolme()"
   ]
  },
  {
   "cell_type": "code",
   "execution_count": 16,
   "metadata": {},
   "outputs": [
    {
     "name": "stdout",
     "output_type": "stream",
     "text": [
      "Sıfıra Bölme Hatası Sıfırı neden bir sayıya bölesin\n",
      "İşlem Sona Erdi\n",
      "Çalışmaya devam\n"
     ]
    }
   ],
   "source": [
    "try:\n",
    "    a = int(input(\"1. Sayıyı Giriniz:\"))\n",
    "    if a == 0:\n",
    "        raise ZeroDivisionError(\"Sıfırı neden bir sayıya bölesin\")\n",
    "    b = int(input(\"2. Sayıyı Giriniz:\"))\n",
    "    print(a/b)\n",
    "except ValueError:\n",
    "    print(\"Yanlış Giriş Yapıldı\")\n",
    "except ZeroDivisionError as hata:\n",
    "    print(\"Sıfıra Bölme Hatası\",hata)\n",
    "except Exception as hata:\n",
    "    print(\"Genel Hata:\",hata)\n",
    "finally:\n",
    "    print(\"İşlem Sona Erdi\")\n",
    "print(\"Çalışmaya devam\")"
   ]
  },
  {
   "cell_type": "code",
   "execution_count": 20,
   "metadata": {},
   "outputs": [
    {
     "name": "stdout",
     "output_type": "stream",
     "text": [
      "Sıfıra Bölme Hatası\n"
     ]
    }
   ],
   "source": [
    "def bolme(a,b):\n",
    "    if type(a) != int or type(b) != int:\n",
    "        raise ValueError(\"Tip Hatası\")\n",
    "    elif a == 0 or b == 0:\n",
    "        raise ZeroDivisionError(\"Sıfıra Bölme Hatası\")\n",
    "    else:\n",
    "        return a/b\n",
    "\n",
    "try:\n",
    "    x = int(input(\"1. Sayıyı Giriniz:\"))\n",
    "    y = int(input(\"2. Sayıyı Giriniz:\"))\n",
    "    print(bolme(x,y))\n",
    "except Exception as hata:\n",
    "    print(hata)"
   ]
  },
  {
   "cell_type": "code",
   "execution_count": 23,
   "metadata": {},
   "outputs": [
    {
     "name": "stdout",
     "output_type": "stream",
     "text": [
      "Sıfıra Bölme Hatası division by zero 1A1C\n",
      "İşlem Sona Erdi\n",
      "Çalışmaya devam\n"
     ]
    }
   ],
   "source": [
    "# Ali Veli-B001-123123123123123\n",
    "# John-Smith Wesson-B003-99123123123123123\n",
    "try:\n",
    "    adim = \"0A0B\"\n",
    "    a = int(input(\"1. Sayıyı Giriniz:\"))\n",
    "    adim = \"1A1B\"\n",
    "    if a == 0:\n",
    "        raise ZeroDivisionError(\"Sıfırı neden bir sayıya bölesin\")\n",
    "    b = int(input(\"2. Sayıyı Giriniz:\"))\n",
    "    adim = \"1A1C\"\n",
    "    print(a/b)\n",
    "except ValueError:\n",
    "    print(\"Yanlış Giriş Yapıldı\",adim)\n",
    "except ZeroDivisionError as hata:\n",
    "    print(\"Sıfıra Bölme Hatası\",hata,adim)\n",
    "except Exception as hata:\n",
    "    print(\"Genel Hata:\",hata,adim)\n",
    "finally:\n",
    "    print(\"İşlem Sona Erdi\")\n",
    "print(\"Çalışmaya devam\")"
   ]
  },
  {
   "cell_type": "code",
   "execution_count": null,
   "metadata": {},
   "outputs": [],
   "source": []
  }
 ],
 "metadata": {
  "kernelspec": {
   "display_name": "Python 3",
   "language": "python",
   "name": "python3"
  },
  "language_info": {
   "codemirror_mode": {
    "name": "ipython",
    "version": 3
   },
   "file_extension": ".py",
   "mimetype": "text/x-python",
   "name": "python",
   "nbconvert_exporter": "python",
   "pygments_lexer": "ipython3",
   "version": "3.12.7"
  }
 },
 "nbformat": 4,
 "nbformat_minor": 2
}
