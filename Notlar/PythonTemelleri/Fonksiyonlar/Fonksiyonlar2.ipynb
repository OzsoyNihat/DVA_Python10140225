{
 "cells": [
  {
   "cell_type": "markdown",
   "metadata": {},
   "source": [
    "# Fonksiyonlar 2\n",
    "* parametre tanımları 2\n",
    "* yield\n",
    "* lambda\n",
    "* recurison\n",
    "* built-ins"
   ]
  },
  {
   "cell_type": "markdown",
   "metadata": {},
   "source": [
    "## *args"
   ]
  },
  {
   "cell_type": "code",
   "execution_count": 1,
   "metadata": {},
   "outputs": [
    {
     "name": "stdout",
     "output_type": "stream",
     "text": [
      "<class 'tuple'>\n",
      "<class 'tuple'>\n",
      "<class 'tuple'>\n"
     ]
    }
   ],
   "source": [
    "def fonk(*args):\n",
    "    print(type(args))\n",
    "fonk()\n",
    "fonk(*[1,2,3,4,5,6])\n",
    "fonk(\"a\",\"b\")"
   ]
  },
  {
   "cell_type": "markdown",
   "metadata": {},
   "source": [
    "## **kwargs"
   ]
  },
  {
   "cell_type": "code",
   "execution_count": 2,
   "metadata": {},
   "outputs": [
    {
     "name": "stdout",
     "output_type": "stream",
     "text": [
      "<class 'dict'>\n",
      "{'a': 1, 'b': 2}\n",
      "<class 'dict'>\n",
      "{}\n"
     ]
    }
   ],
   "source": [
    "def fonk(**kwargs):\n",
    "    print(type(kwargs))\n",
    "    print(kwargs)\n",
    "fonk(a=1,b=2)\n",
    "fonk()\n"
   ]
  },
  {
   "cell_type": "code",
   "execution_count": 7,
   "metadata": {},
   "outputs": [
    {
     "name": "stdout",
     "output_type": "stream",
     "text": [
      "Merhaba DVA\n",
      "Nasılsın python\n"
     ]
    }
   ],
   "source": [
    "def fonk(**kwargs):\n",
    "    for key,value in kwargs.items():\n",
    "        if key == \"selam\":\n",
    "            print(\"Merhaba\",value)\n",
    "        if key == \"hal\":\n",
    "            print(\"Nasılsın\",value)\n",
    "fonk()\n",
    "fonk(selam=\"DVA\")\n",
    "fonk(hal=\"python\")\n",
    "fonk(zon=\"1\")"
   ]
  },
  {
   "cell_type": "code",
   "execution_count": 9,
   "metadata": {},
   "outputs": [
    {
     "name": "stdout",
     "output_type": "stream",
     "text": [
      "1 2\n",
      "(3, 4, 5, 6, 7)\n",
      "{'param': '1111'}\n"
     ]
    }
   ],
   "source": [
    "def fonk(a,b,*args,**kwargs):\n",
    "    print(a,b)\n",
    "    print(args)\n",
    "    print(kwargs)\n",
    "fonk(1,2,3,4,5,6,7,param=\"1111\")"
   ]
  },
  {
   "cell_type": "markdown",
   "metadata": {},
   "source": [
    "## yield"
   ]
  },
  {
   "cell_type": "code",
   "execution_count": 2,
   "metadata": {},
   "outputs": [
    {
     "name": "stdout",
     "output_type": "stream",
     "text": [
      "1 2 3 4\n"
     ]
    }
   ],
   "source": [
    "## yield\n",
    "print(*range(1,5))"
   ]
  },
  {
   "cell_type": "code",
   "execution_count": 5,
   "metadata": {},
   "outputs": [
    {
     "data": {
      "text/plain": [
       "<generator object fonk at 0x7f7f540c82b0>"
      ]
     },
     "execution_count": 5,
     "metadata": {},
     "output_type": "execute_result"
    }
   ],
   "source": [
    "def fonk(ba=0,bi=0,ad=1):\n",
    "    i = ba\n",
    "    while i <= bi:\n",
    "        i += ad\n",
    "        yield i\n",
    "fonk(0,5,1)"
   ]
  },
  {
   "cell_type": "code",
   "execution_count": 6,
   "metadata": {},
   "outputs": [
    {
     "name": "stdout",
     "output_type": "stream",
     "text": [
      "1 2 3 4 5 6\n"
     ]
    }
   ],
   "source": [
    "print(*fonk(0,5,1))"
   ]
  },
  {
   "cell_type": "code",
   "execution_count": 7,
   "metadata": {},
   "outputs": [
    {
     "name": "stdout",
     "output_type": "stream",
     "text": [
      "1\n",
      "2\n",
      "3\n",
      "4\n",
      "5\n",
      "6\n"
     ]
    }
   ],
   "source": [
    "for i in fonk(0,5,1):\n",
    "    print(i)"
   ]
  },
  {
   "cell_type": "code",
   "execution_count": 15,
   "metadata": {},
   "outputs": [
    {
     "name": "stdout",
     "output_type": "stream",
     "text": [
      "[4, 6, 40, 46, 47, 48]\n"
     ]
    }
   ],
   "source": [
    "import random as rnd\n",
    "liste = []\n",
    "for i in range(6):\n",
    "    sayi = rnd.randint(1,49)\n",
    "    while sayi in liste:\n",
    "        sayi = rnd.randint(1,49)\n",
    "    liste.append(sayi)\n",
    "else:\n",
    "    liste.sort()\n",
    "    print(liste)"
   ]
  },
  {
   "cell_type": "code",
   "execution_count": 23,
   "metadata": {},
   "outputs": [
    {
     "name": "stdout",
     "output_type": "stream",
     "text": [
      "[8, 11, 17, 20, 37, 43]\n",
      "[23, 25, 27, 36, 37, 49]\n",
      "[6, 11, 12, 22, 24, 31]\n",
      "[3, 6, 11, 21, 30, 34]\n",
      "[3, 7, 10, 17, 28, 49]\n",
      "[8, 13, 21, 34, 39, 43]\n",
      "[2, 3, 39, 42, 44, 48]\n",
      "[6, 13, 16, 17, 24, 48]\n",
      "[7, 11, 12, 19, 22, 37]\n",
      "[2, 22, 31, 34, 37, 39]\n"
     ]
    }
   ],
   "source": [
    "def fonk(n):\n",
    "    import random as rnd\n",
    "    for j in range(n):\n",
    "        liste = []\n",
    "        for i in range(6):\n",
    "            sayi = rnd.randint(1,49)\n",
    "            while sayi in liste:\n",
    "                sayi = rnd.randint(1,49)\n",
    "            liste.append(sayi)\n",
    "        else:\n",
    "            liste.sort()\n",
    "            yield liste\n",
    "\n",
    "for item in fonk(10):\n",
    "    print(item)"
   ]
  },
  {
   "cell_type": "code",
   "execution_count": 40,
   "metadata": {},
   "outputs": [
    {
     "name": "stdout",
     "output_type": "stream",
     "text": [
      "[9, 24, 28, 10, 13, 45]\n",
      "[27, 33, 40, 36, 32, 10]\n",
      "[11, 34, 27, 19, 24, 43]\n",
      "[22, 30, 42, 6, 20, 42]\n",
      "[22, 24, 37, 29, 40, 48]\n",
      "[47, 32, 7, 9, 41, 28]\n",
      "[3, 35, 12, 26, 21, 28]\n",
      "[14, 17, 16, 21, 15, 45]\n",
      "[26, 40, 44, 22, 36, 23]\n",
      "[16, 43, 44, 25, 47, 16]\n"
     ]
    }
   ],
   "source": [
    "def altfonk(n):\n",
    "    population = [i for i in range(1,50)]\n",
    "    for i in range(n):\n",
    "        yield rnd.choices(population,k=6)\n",
    "for item in altfonk(10):\n",
    "    print(item)"
   ]
  },
  {
   "cell_type": "code",
   "execution_count": 41,
   "metadata": {},
   "outputs": [
    {
     "name": "stdout",
     "output_type": "stream",
     "text": [
      "CPU times: user 519 μs, sys: 102 μs, total: 621 μs\n",
      "Wall time: 626 μs\n"
     ]
    }
   ],
   "source": [
    "%%time\n",
    "for item in fonk(100):\n",
    "    pass"
   ]
  },
  {
   "cell_type": "code",
   "execution_count": 43,
   "metadata": {},
   "outputs": [
    {
     "name": "stdout",
     "output_type": "stream",
     "text": [
      "CPU times: user 136 μs, sys: 26 μs, total: 162 μs\n",
      "Wall time: 165 μs\n"
     ]
    }
   ],
   "source": [
    "%%time\n",
    "for item in altfonk(100):\n",
    "    pass"
   ]
  },
  {
   "cell_type": "markdown",
   "metadata": {},
   "source": [
    "## lambda"
   ]
  },
  {
   "cell_type": "code",
   "execution_count": null,
   "metadata": {},
   "outputs": [],
   "source": []
  }
 ],
 "metadata": {
  "kernelspec": {
   "display_name": "Python 3",
   "language": "python",
   "name": "python3"
  },
  "language_info": {
   "codemirror_mode": {
    "name": "ipython",
    "version": 3
   },
   "file_extension": ".py",
   "mimetype": "text/x-python",
   "name": "python",
   "nbconvert_exporter": "python",
   "pygments_lexer": "ipython3",
   "version": "3.12.7"
  }
 },
 "nbformat": 4,
 "nbformat_minor": 2
}
