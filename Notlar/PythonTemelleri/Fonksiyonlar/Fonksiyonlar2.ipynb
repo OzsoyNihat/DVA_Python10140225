{
 "cells": [
  {
   "cell_type": "markdown",
   "metadata": {},
   "source": [
    "# Fonksiyonlar 2\n",
    "* parametre tanımları 2\n",
    "* yield\n",
    "* recurison\n",
    "* built-ins"
   ]
  },
  {
   "cell_type": "markdown",
   "metadata": {},
   "source": [
    "## *args"
   ]
  },
  {
   "cell_type": "code",
   "execution_count": 1,
   "metadata": {},
   "outputs": [
    {
     "name": "stdout",
     "output_type": "stream",
     "text": [
      "<class 'tuple'>\n",
      "<class 'tuple'>\n",
      "<class 'tuple'>\n"
     ]
    }
   ],
   "source": [
    "def fonk(*args):\n",
    "    print(type(args))\n",
    "fonk()\n",
    "fonk(*[1,2,3,4,5,6])\n",
    "fonk(\"a\",\"b\")"
   ]
  },
  {
   "cell_type": "markdown",
   "metadata": {},
   "source": [
    "## **kwargs"
   ]
  },
  {
   "cell_type": "code",
   "execution_count": 2,
   "metadata": {},
   "outputs": [
    {
     "name": "stdout",
     "output_type": "stream",
     "text": [
      "<class 'dict'>\n",
      "{'a': 1, 'b': 2}\n",
      "<class 'dict'>\n",
      "{}\n"
     ]
    }
   ],
   "source": [
    "def fonk(**kwargs):\n",
    "    print(type(kwargs))\n",
    "    print(kwargs)\n",
    "fonk(a=1,b=2)\n",
    "fonk()\n"
   ]
  },
  {
   "cell_type": "code",
   "execution_count": 7,
   "metadata": {},
   "outputs": [
    {
     "name": "stdout",
     "output_type": "stream",
     "text": [
      "Merhaba DVA\n",
      "Nasılsın python\n"
     ]
    }
   ],
   "source": [
    "def fonk(**kwargs):\n",
    "    for key,value in kwargs.items():\n",
    "        if key == \"selam\":\n",
    "            print(\"Merhaba\",value)\n",
    "        if key == \"hal\":\n",
    "            print(\"Nasılsın\",value)\n",
    "fonk()\n",
    "fonk(selam=\"DVA\")\n",
    "fonk(hal=\"python\")\n",
    "fonk(zon=\"1\")"
   ]
  },
  {
   "cell_type": "code",
   "execution_count": 9,
   "metadata": {},
   "outputs": [
    {
     "name": "stdout",
     "output_type": "stream",
     "text": [
      "1 2\n",
      "(3, 4, 5, 6, 7)\n",
      "{'param': '1111'}\n"
     ]
    }
   ],
   "source": [
    "def fonk(a,b,*args,**kwargs):\n",
    "    print(a,b)\n",
    "    print(args)\n",
    "    print(kwargs)\n",
    "fonk(1,2,3,4,5,6,7,param=\"1111\")"
   ]
  },
  {
   "cell_type": "code",
   "execution_count": null,
   "metadata": {},
   "outputs": [],
   "source": []
  }
 ],
 "metadata": {
  "kernelspec": {
   "display_name": "Python 3",
   "language": "python",
   "name": "python3"
  },
  "language_info": {
   "codemirror_mode": {
    "name": "ipython",
    "version": 3
   },
   "file_extension": ".py",
   "mimetype": "text/x-python",
   "name": "python",
   "nbconvert_exporter": "python",
   "pygments_lexer": "ipython3",
   "version": "3.12.7"
  }
 },
 "nbformat": 4,
 "nbformat_minor": 2
}
