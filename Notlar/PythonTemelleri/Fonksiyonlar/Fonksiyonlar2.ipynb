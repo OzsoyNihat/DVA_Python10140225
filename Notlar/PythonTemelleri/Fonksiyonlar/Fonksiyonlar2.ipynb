{
 "cells": [
  {
   "cell_type": "markdown",
   "metadata": {},
   "source": [
    "# Fonksiyonlar 2\n",
    "* parametre tanımları 2\n",
    "* yield\n",
    "* lambda\n",
    "* recurison\n",
    "* built-ins"
   ]
  },
  {
   "cell_type": "markdown",
   "metadata": {},
   "source": [
    "## *args"
   ]
  },
  {
   "cell_type": "code",
   "execution_count": 1,
   "metadata": {},
   "outputs": [
    {
     "name": "stdout",
     "output_type": "stream",
     "text": [
      "<class 'tuple'>\n",
      "<class 'tuple'>\n",
      "<class 'tuple'>\n"
     ]
    }
   ],
   "source": [
    "def fonk(*args):\n",
    "    print(type(args))\n",
    "fonk()\n",
    "fonk(*[1,2,3,4,5,6])\n",
    "fonk(\"a\",\"b\")"
   ]
  },
  {
   "cell_type": "markdown",
   "metadata": {},
   "source": [
    "## **kwargs"
   ]
  },
  {
   "cell_type": "code",
   "execution_count": 2,
   "metadata": {},
   "outputs": [
    {
     "name": "stdout",
     "output_type": "stream",
     "text": [
      "<class 'dict'>\n",
      "{'a': 1, 'b': 2}\n",
      "<class 'dict'>\n",
      "{}\n"
     ]
    }
   ],
   "source": [
    "def fonk(**kwargs):\n",
    "    print(type(kwargs))\n",
    "    print(kwargs)\n",
    "fonk(a=1,b=2)\n",
    "fonk()\n"
   ]
  },
  {
   "cell_type": "code",
   "execution_count": 7,
   "metadata": {},
   "outputs": [
    {
     "name": "stdout",
     "output_type": "stream",
     "text": [
      "Merhaba DVA\n",
      "Nasılsın python\n"
     ]
    }
   ],
   "source": [
    "def fonk(**kwargs):\n",
    "    for key,value in kwargs.items():\n",
    "        if key == \"selam\":\n",
    "            print(\"Merhaba\",value)\n",
    "        if key == \"hal\":\n",
    "            print(\"Nasılsın\",value)\n",
    "fonk()\n",
    "fonk(selam=\"DVA\")\n",
    "fonk(hal=\"python\")\n",
    "fonk(zon=\"1\")"
   ]
  },
  {
   "cell_type": "code",
   "execution_count": 9,
   "metadata": {},
   "outputs": [
    {
     "name": "stdout",
     "output_type": "stream",
     "text": [
      "1 2\n",
      "(3, 4, 5, 6, 7)\n",
      "{'param': '1111'}\n"
     ]
    }
   ],
   "source": [
    "def fonk(a,b,*args,**kwargs):\n",
    "    print(a,b)\n",
    "    print(args)\n",
    "    print(kwargs)\n",
    "fonk(1,2,3,4,5,6,7,param=\"1111\")"
   ]
  },
  {
   "cell_type": "markdown",
   "metadata": {},
   "source": [
    "## yield"
   ]
  },
  {
   "cell_type": "code",
   "execution_count": 2,
   "metadata": {},
   "outputs": [
    {
     "name": "stdout",
     "output_type": "stream",
     "text": [
      "1 2 3 4\n"
     ]
    }
   ],
   "source": [
    "## yield\n",
    "print(*range(1,5))"
   ]
  },
  {
   "cell_type": "code",
   "execution_count": 5,
   "metadata": {},
   "outputs": [
    {
     "data": {
      "text/plain": [
       "<generator object fonk at 0x7f7f540c82b0>"
      ]
     },
     "execution_count": 5,
     "metadata": {},
     "output_type": "execute_result"
    }
   ],
   "source": [
    "def fonk(ba=0,bi=0,ad=1):\n",
    "    i = ba\n",
    "    while i <= bi:\n",
    "        i += ad\n",
    "        yield i\n",
    "fonk(0,5,1)"
   ]
  },
  {
   "cell_type": "code",
   "execution_count": 6,
   "metadata": {},
   "outputs": [
    {
     "name": "stdout",
     "output_type": "stream",
     "text": [
      "1 2 3 4 5 6\n"
     ]
    }
   ],
   "source": [
    "print(*fonk(0,5,1))"
   ]
  },
  {
   "cell_type": "code",
   "execution_count": 7,
   "metadata": {},
   "outputs": [
    {
     "name": "stdout",
     "output_type": "stream",
     "text": [
      "1\n",
      "2\n",
      "3\n",
      "4\n",
      "5\n",
      "6\n"
     ]
    }
   ],
   "source": [
    "for i in fonk(0,5,1):\n",
    "    print(i)"
   ]
  },
  {
   "cell_type": "code",
   "execution_count": 15,
   "metadata": {},
   "outputs": [
    {
     "name": "stdout",
     "output_type": "stream",
     "text": [
      "[4, 6, 40, 46, 47, 48]\n"
     ]
    }
   ],
   "source": [
    "import random as rnd\n",
    "liste = []\n",
    "for i in range(6):\n",
    "    sayi = rnd.randint(1,49)\n",
    "    while sayi in liste:\n",
    "        sayi = rnd.randint(1,49)\n",
    "    liste.append(sayi)\n",
    "else:\n",
    "    liste.sort()\n",
    "    print(liste)"
   ]
  },
  {
   "cell_type": "code",
   "execution_count": 23,
   "metadata": {},
   "outputs": [
    {
     "name": "stdout",
     "output_type": "stream",
     "text": [
      "[8, 11, 17, 20, 37, 43]\n",
      "[23, 25, 27, 36, 37, 49]\n",
      "[6, 11, 12, 22, 24, 31]\n",
      "[3, 6, 11, 21, 30, 34]\n",
      "[3, 7, 10, 17, 28, 49]\n",
      "[8, 13, 21, 34, 39, 43]\n",
      "[2, 3, 39, 42, 44, 48]\n",
      "[6, 13, 16, 17, 24, 48]\n",
      "[7, 11, 12, 19, 22, 37]\n",
      "[2, 22, 31, 34, 37, 39]\n"
     ]
    }
   ],
   "source": [
    "def fonk(n):\n",
    "    import random as rnd\n",
    "    for j in range(n):\n",
    "        liste = []\n",
    "        for i in range(6):\n",
    "            sayi = rnd.randint(1,49)\n",
    "            while sayi in liste:\n",
    "                sayi = rnd.randint(1,49)\n",
    "            liste.append(sayi)\n",
    "        else:\n",
    "            liste.sort()\n",
    "            yield liste\n",
    "\n",
    "for item in fonk(10):\n",
    "    print(item)"
   ]
  },
  {
   "cell_type": "code",
   "execution_count": 40,
   "metadata": {},
   "outputs": [
    {
     "name": "stdout",
     "output_type": "stream",
     "text": [
      "[9, 24, 28, 10, 13, 45]\n",
      "[27, 33, 40, 36, 32, 10]\n",
      "[11, 34, 27, 19, 24, 43]\n",
      "[22, 30, 42, 6, 20, 42]\n",
      "[22, 24, 37, 29, 40, 48]\n",
      "[47, 32, 7, 9, 41, 28]\n",
      "[3, 35, 12, 26, 21, 28]\n",
      "[14, 17, 16, 21, 15, 45]\n",
      "[26, 40, 44, 22, 36, 23]\n",
      "[16, 43, 44, 25, 47, 16]\n"
     ]
    }
   ],
   "source": [
    "def altfonk(n):\n",
    "    population = [i for i in range(1,50)]\n",
    "    for i in range(n):\n",
    "        yield rnd.choices(population,k=6)\n",
    "for item in altfonk(10):\n",
    "    print(item)"
   ]
  },
  {
   "cell_type": "code",
   "execution_count": 41,
   "metadata": {},
   "outputs": [
    {
     "name": "stdout",
     "output_type": "stream",
     "text": [
      "CPU times: user 519 μs, sys: 102 μs, total: 621 μs\n",
      "Wall time: 626 μs\n"
     ]
    }
   ],
   "source": [
    "%%time\n",
    "for item in fonk(100):\n",
    "    pass"
   ]
  },
  {
   "cell_type": "code",
   "execution_count": 43,
   "metadata": {},
   "outputs": [
    {
     "name": "stdout",
     "output_type": "stream",
     "text": [
      "CPU times: user 136 μs, sys: 26 μs, total: 162 μs\n",
      "Wall time: 165 μs\n"
     ]
    }
   ],
   "source": [
    "%%time\n",
    "for item in altfonk(100):\n",
    "    pass"
   ]
  },
  {
   "cell_type": "markdown",
   "metadata": {},
   "source": [
    "## lambda"
   ]
  },
  {
   "cell_type": "code",
   "execution_count": null,
   "metadata": {},
   "outputs": [],
   "source": [
    "def fonka(a,b):\n",
    "    return a+b\n",
    "fonkb = lambda x,y:x+y"
   ]
  },
  {
   "cell_type": "code",
   "execution_count": 49,
   "metadata": {},
   "outputs": [
    {
     "name": "stdout",
     "output_type": "stream",
     "text": [
      "2 3 4 5 3 2\n"
     ]
    }
   ],
   "source": [
    "def fonk(a,b,/,c,d,*,e,f):\n",
    "    print(a,b,c,d,e,f)\n",
    "fonk(2,3,4,5,e=3,f=2)"
   ]
  },
  {
   "cell_type": "code",
   "execution_count": 51,
   "metadata": {},
   "outputs": [],
   "source": [
    "def fonka(a:int,b:int)->int:\n",
    "    \"\"\"\n",
    "    a ve b int tipindedir\n",
    "    \n",
    "    \"\"\"\n",
    "    return a+b"
   ]
  },
  {
   "cell_type": "markdown",
   "metadata": {},
   "source": [
    "## recursion"
   ]
  },
  {
   "cell_type": "code",
   "execution_count": 53,
   "metadata": {},
   "outputs": [
    {
     "data": {
      "text/plain": [
       "120"
      ]
     },
     "execution_count": 53,
     "metadata": {},
     "output_type": "execute_result"
    }
   ],
   "source": [
    "def fonk(n):\n",
    "    if n == 1:\n",
    "        return n\n",
    "    else:\n",
    "        return n*fonk(n-1)\n",
    "fonk(5)"
   ]
  },
  {
   "cell_type": "markdown",
   "metadata": {},
   "source": [
    "## built-in\n",
    "* max,min,sum\n",
    "* map,filter,zip\n",
    "* eval,exec\n",
    "* any,all"
   ]
  },
  {
   "cell_type": "code",
   "execution_count": 57,
   "metadata": {},
   "outputs": [
    {
     "data": {
      "text/plain": [
       "40"
      ]
     },
     "execution_count": 57,
     "metadata": {},
     "output_type": "execute_result"
    }
   ],
   "source": [
    "eval(\"2**5+8\")"
   ]
  },
  {
   "cell_type": "code",
   "execution_count": 59,
   "metadata": {},
   "outputs": [],
   "source": [
    "exec(\"dva=500\")"
   ]
  },
  {
   "cell_type": "code",
   "execution_count": 60,
   "metadata": {},
   "outputs": [
    {
     "data": {
      "text/plain": [
       "500"
      ]
     },
     "execution_count": 60,
     "metadata": {},
     "output_type": "execute_result"
    }
   ],
   "source": [
    "dva"
   ]
  },
  {
   "cell_type": "code",
   "execution_count": 61,
   "metadata": {},
   "outputs": [
    {
     "name": "stdout",
     "output_type": "stream",
     "text": [
      "0\n",
      "1\n",
      "2\n",
      "3\n",
      "4\n",
      "5\n",
      "6\n",
      "7\n",
      "8\n",
      "9\n"
     ]
    }
   ],
   "source": [
    "exec(\"\"\"\n",
    "for i in range(10):\n",
    "    print(i)\n",
    "\"\"\")"
   ]
  },
  {
   "cell_type": "code",
   "execution_count": 64,
   "metadata": {},
   "outputs": [
    {
     "name": "stdout",
     "output_type": "stream",
     "text": [
      "2 3 4\n"
     ]
    },
    {
     "data": {
      "text/plain": [
       "[2, 3, 4]"
      ]
     },
     "execution_count": 64,
     "metadata": {},
     "output_type": "execute_result"
    }
   ],
   "source": [
    "# liste = [\"Ali\",\"Şermin\",\"Çiğdem\"]\n",
    "liste = [22,33,44]\n",
    "print(*map(lambda x:x%5,liste))\n",
    "list(map(lambda x:x%5,liste))"
   ]
  },
  {
   "cell_type": "code",
   "execution_count": 66,
   "metadata": {},
   "outputs": [
    {
     "data": {
      "text/plain": [
       "[1, 0, 0, 0, 0, 0, 0, 0, 1, 4, 6]"
      ]
     },
     "execution_count": 66,
     "metadata": {},
     "output_type": "execute_result"
    }
   ],
   "source": [
    "tckimlik = \"10000000146\"\n",
    "list(map(int,list(tckimlik)))"
   ]
  },
  {
   "cell_type": "markdown",
   "metadata": {},
   "source": [
    "1. 11 hane\n",
    "2. başlangıç sıfırandan farklı\n",
    "3. 1,3,5,7,9 toplamının 7 katının, 2,4,6,8 toplamına farkının modu 10 ' u 10. haneyi vermeli\n",
    "4. 1,2,3,4,5,6,7,8,9,10. hanelerdeki sayıların toplamının 10 a göre modu 11. haneyi vermeli"
   ]
  },
  {
   "cell_type": "code",
   "execution_count": 67,
   "metadata": {},
   "outputs": [
    {
     "name": "stdout",
     "output_type": "stream",
     "text": [
      "Doğru\n"
     ]
    }
   ],
   "source": [
    "tckimlik = \"10000000146\"\n",
    "tckimlikListe = list(map(int,list(tckimlik)))\n",
    "if len(tckimlikListe) == 11:\n",
    "    if tckimlikListe[0] != 0:\n",
    "        if (sum(tckimlikListe[0:9:2])*7-\\\n",
    "            sum(tckimlikListe[1:8:2]))%10 == tckimlikListe[9]:\n",
    "            if sum(tckimlikListe[:10]) % 10 == tckimlikListe[10]:\n",
    "                print(\"Doğru\")\n",
    "            else:\n",
    "                print(\"Hata 4\")\n",
    "        else:\n",
    "            print(\"Hata 3\")\n",
    "    else:\n",
    "        print(\"Hata 2\")\n",
    "else:\n",
    "    print(\"Hata 1\")"
   ]
  },
  {
   "cell_type": "markdown",
   "metadata": {},
   "source": [
    "Don't Repeat Yourself => DRY"
   ]
  },
  {
   "cell_type": "code",
   "execution_count": 70,
   "metadata": {},
   "outputs": [
    {
     "name": "stdout",
     "output_type": "stream",
     "text": [
      "2 adımda hata verdi\n"
     ]
    }
   ],
   "source": [
    "def tckimlikKontrol(tckimlik):\n",
    "    tckimlikListe = list(map(int,list(tckimlik)))\n",
    "    adim = 0\n",
    "    if len(tckimlikListe) == 11:\n",
    "        adim = 1\n",
    "        if tckimlikListe[0] != 0:\n",
    "            adim = 2\n",
    "            if (sum(tckimlikListe[0:9:2])*7-\\\n",
    "                sum(tckimlikListe[1:8:2]))%10 == tckimlikListe[9]:\n",
    "                adim = 3\n",
    "                if sum(tckimlikListe[:10]) % 10 == tckimlikListe[10]:\n",
    "                    adim = 4\n",
    "                    return True,adim\n",
    "    return False,adim\n",
    "sonuc = tckimlikKontrol(\"10000000146\")\n",
    "if sonuc[0]:\n",
    "    print(\"Doğru\")\n",
    "else:\n",
    "    print(sonuc[1],\"adımda hata verdi\")\n"
   ]
  },
  {
   "cell_type": "code",
   "execution_count": 72,
   "metadata": {},
   "outputs": [
    {
     "data": {
      "text/plain": [
       "['A', 'a', 's', 'x']"
      ]
     },
     "execution_count": 72,
     "metadata": {},
     "output_type": "execute_result"
    }
   ],
   "source": [
    "liste = [\"A\",\"a\",\"1\",\"s\",\"2\",\"x\",\".\",\")\"]\n",
    "filter(lambda x:x.isalpha(),liste)\n",
    "list(filter(lambda x:x.isalpha(),liste))"
   ]
  },
  {
   "cell_type": "code",
   "execution_count": 76,
   "metadata": {},
   "outputs": [
    {
     "name": "stdout",
     "output_type": "stream",
     "text": [
      "10.02.2025\n"
     ]
    }
   ],
   "source": [
    "satir = \"\"\"\"10.02.2025\";\"2\";\"1\";\"145.177.90.200\";\"43630\";\"778\"\"\"\"\"\n",
    "print(satir.split(\";\")[0].strip('\"'))"
   ]
  },
  {
   "cell_type": "code",
   "execution_count": 78,
   "metadata": {},
   "outputs": [
    {
     "name": "stdout",
     "output_type": "stream",
     "text": [
      "['10.02.2025', '2', '1', '145.177.90.200', '43630', '778']\n"
     ]
    }
   ],
   "source": [
    "satir = \"\"\"\"10.02.2025\";\"2\";\"1\";\"145.177.90.200\";\"43630\";\"778\"\"\"\"\"\n",
    "satir = list(map(lambda x:x.strip('\"'),satir.split(\";\")))\n",
    "print(satir)"
   ]
  },
  {
   "cell_type": "code",
   "execution_count": null,
   "metadata": {},
   "outputs": [],
   "source": [
    "satir = \"\"\"\"10.02.2025\";\"2\";\"1\";\"145.177.90.200\";\"43630\";\"778\"\"\"\"\"\n",
    "satir = list(map(lambda x:x.strip('\"'),satir.split(\";\")))\n",
    "filter(lambda x:int(x[2]) == 1,satirlar)"
   ]
  },
  {
   "cell_type": "code",
   "execution_count": null,
   "metadata": {},
   "outputs": [],
   "source": [
    "satir = \"\"\"\"10.02.2025\";\"2\";\"1\";\"145.177.90.200\";\"43630\";\"778\"\"\"\"\"\n",
    "satir = list(map(lambda x:x.strip('\"'),satir.split(\";\")))\n",
    "sonuc = list(filter(lambda x:int(x[2]) == 1,satirlar))"
   ]
  },
  {
   "cell_type": "code",
   "execution_count": 81,
   "metadata": {},
   "outputs": [],
   "source": [
    "with open(\"/workspace/DVA_Python10140225/fakelog.csv\",\"r+\") as dosya:\n",
    "    satirlar = dosya.readlines()\n",
    "    satirFonk = lambda satirF : list(map(lambda x:x.strip('\"'),satirF.split(\";\")))\n",
    "    satirlar =map(satirFonk,satirlar)\n",
    "    sonuc = filter(lambda x:x[2] == \"1\",satirlar)\n",
    "    print(*sonuc,sep=\"\\n\",file=open(\"sonuc.csv\",\"w\"))"
   ]
  },
  {
   "cell_type": "code",
   "execution_count": 86,
   "metadata": {},
   "outputs": [
    {
     "ename": "ValueError",
     "evalue": "zip() argument 2 is longer than argument 1",
     "output_type": "error",
     "traceback": [
      "\u001b[0;31m---------------------------------------------------------------------------\u001b[0m",
      "\u001b[0;31mValueError\u001b[0m                                Traceback (most recent call last)",
      "Cell \u001b[0;32mIn[86], line 3\u001b[0m\n\u001b[1;32m      1\u001b[0m l1 \u001b[38;5;241m=\u001b[39m [\u001b[38;5;124m\"\u001b[39m\u001b[38;5;124mAli\u001b[39m\u001b[38;5;124m\"\u001b[39m,\u001b[38;5;124m\"\u001b[39m\u001b[38;5;124mMehmet\u001b[39m\u001b[38;5;124m\"\u001b[39m,\u001b[38;5;124m\"\u001b[39m\u001b[38;5;124mMurat\u001b[39m\u001b[38;5;124m\"\u001b[39m]\n\u001b[1;32m      2\u001b[0m l2 \u001b[38;5;241m=\u001b[39m [\u001b[38;5;241m90\u001b[39m,\u001b[38;5;241m92\u001b[39m,\u001b[38;5;241m89\u001b[39m,\u001b[38;5;241m100\u001b[39m]\n\u001b[0;32m----> 3\u001b[0m \u001b[38;5;28;43mlist\u001b[39;49m\u001b[43m(\u001b[49m\u001b[38;5;28;43mzip\u001b[39;49m\u001b[43m(\u001b[49m\u001b[43ml1\u001b[49m\u001b[43m,\u001b[49m\u001b[43ml2\u001b[49m\u001b[43m,\u001b[49m\u001b[43mstrict\u001b[49m\u001b[38;5;241;43m=\u001b[39;49m\u001b[38;5;28;43;01mTrue\u001b[39;49;00m\u001b[43m)\u001b[49m\u001b[43m)\u001b[49m\n",
      "\u001b[0;31mValueError\u001b[0m: zip() argument 2 is longer than argument 1"
     ]
    }
   ],
   "source": [
    "l1 = [\"Ali\",\"Mehmet\",\"Murat\"]\n",
    "l2 = [90,92,89,100]\n",
    "list(zip(l1,l2,strict=True))"
   ]
  },
  {
   "cell_type": "code",
   "execution_count": null,
   "metadata": {},
   "outputs": [],
   "source": []
  }
 ],
 "metadata": {
  "kernelspec": {
   "display_name": "Python 3",
   "language": "python",
   "name": "python3"
  },
  "language_info": {
   "codemirror_mode": {
    "name": "ipython",
    "version": 3
   },
   "file_extension": ".py",
   "mimetype": "text/x-python",
   "name": "python",
   "nbconvert_exporter": "python",
   "pygments_lexer": "ipython3",
   "version": "3.12.7"
  }
 },
 "nbformat": 4,
 "nbformat_minor": 2
}
