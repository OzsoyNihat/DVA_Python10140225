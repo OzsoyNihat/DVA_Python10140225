{
 "cells": [
  {
   "cell_type": "markdown",
   "metadata": {},
   "source": [
    "# OOP1\n",
    "* class - instance\n",
    "* atrribute - method\n",
    "* class attribute class method\n",
    "* instance attribute instance method\n",
    "* constructor\n",
    "* instantiation\n"
   ]
  },
  {
   "cell_type": "code",
   "execution_count": 1,
   "metadata": {},
   "outputs": [
    {
     "name": "stdout",
     "output_type": "stream",
     "text": [
      "2\n",
      "3\n"
     ]
    }
   ],
   "source": [
    "class Sinif:\n",
    "    sinifOzelligi = \"Sınıf Özelliği\"\n",
    "    def __init__(self,a):\n",
    "       self.ornekOzellik = a\n",
    "    \n",
    "    def ornekMethod(self):\n",
    "        print(self.ornekOzellik)\n",
    "\n",
    "    @classmethod\n",
    "    def sinifMethod(cls):\n",
    "        print(cls.sinifOzelligi)\n",
    "\n",
    "    @staticmethod\n",
    "    def pi():\n",
    "        return 22/7\n",
    "\n",
    "obj1 = Sinif(2)\n",
    "obj2 = Sinif(3)\n",
    "obj1.ornekMethod()\n",
    "obj2.ornekMethod()\n",
    "Sinif.sinifMethod()"
   ]
  },
  {
   "cell_type": "code",
   "execution_count": 20,
   "metadata": {},
   "outputs": [
    {
     "name": "stdout",
     "output_type": "stream",
     "text": [
      "BYD Seal U DMI\n",
      "Km: 6001\n",
      "Plaka: 06DTS06\n",
      "Yakıt Yok\n",
      "##############################\n",
      "Alfa Romeo Stelvio\n",
      "Km: 6001\n",
      "Plaka: 06DTS07\n",
      "Yakıt Yok\n",
      "##############################\n",
      "06DTS06 Yakıt Aldı\n",
      "BYD Seal U DMI\n",
      "Km: 6001\n",
      "Plaka: 06DTS06\n",
      "Yakıt Var\n",
      "##############################\n",
      "Alfa Romeo Stelvio\n",
      "Km: 6001\n",
      "Plaka: 06DTS07\n",
      "Yakıt Yok\n",
      "##############################\n"
     ]
    }
   ],
   "source": [
    "class Araba():\n",
    "    tip = \"Binek Otomobil\"\n",
    "    def __init__(self,km,plaka,marka,model):\n",
    "        self.km = km\n",
    "        self.plaka = plaka\n",
    "        self.marka = marka\n",
    "        self.model = model\n",
    "        self.yakit = False\n",
    "\n",
    "    def yakitAl(self): #instance method\n",
    "        self.yakit = True\n",
    "        print(self.plaka,\"Yakıt Aldı\")\n",
    "\n",
    "    def alim(self):\n",
    "        print(self.plaka,\"Alındı\")\n",
    "\n",
    "    def bilgiVer(self):\n",
    "        print(self.marka,self.model)\n",
    "        print(\"Km:\",self.km)\n",
    "        print(\"Plaka:\",self.plaka)\n",
    "        if self.yakit:\n",
    "            print(\"Yakıt Var\")\n",
    "        else:\n",
    "            print(\"Yakıt Yok\")\n",
    "        print(\"#\"*30)\n",
    "\n",
    "    def __repr__(self):\n",
    "        return self.marka + \" \" + self.model\n",
    "    \n",
    "    def __eq__(self,obj):\n",
    "        return obj.km == self.km\n",
    "\n",
    "\n",
    "araba1 = Araba(6001,\"06DTS06\",\"BYD\",\"Seal U DMI\")\n",
    "araba2 = Araba(6001,\"06DTS07\",\"Alfa Romeo\",\"Stelvio\")\n",
    "araba1.bilgiVer()\n",
    "araba2.bilgiVer()\n",
    "araba1.yakitAl()\n",
    "araba1.bilgiVer()\n",
    "araba2.bilgiVer()\n"
   ]
  },
  {
   "cell_type": "code",
   "execution_count": 17,
   "metadata": {},
   "outputs": [
    {
     "name": "stdout",
     "output_type": "stream",
     "text": [
      "BYD Seal U DMI\n"
     ]
    }
   ],
   "source": [
    "print(araba1)"
   ]
  },
  {
   "cell_type": "code",
   "execution_count": 21,
   "metadata": {},
   "outputs": [
    {
     "data": {
      "text/plain": [
       "True"
      ]
     },
     "execution_count": 21,
     "metadata": {},
     "output_type": "execute_result"
    }
   ],
   "source": [
    "araba1 == araba2"
   ]
  },
  {
   "cell_type": "code",
   "execution_count": null,
   "metadata": {},
   "outputs": [],
   "source": []
  }
 ],
 "metadata": {
  "kernelspec": {
   "display_name": "Python 3",
   "language": "python",
   "name": "python3"
  },
  "language_info": {
   "codemirror_mode": {
    "name": "ipython",
    "version": 3
   },
   "file_extension": ".py",
   "mimetype": "text/x-python",
   "name": "python",
   "nbconvert_exporter": "python",
   "pygments_lexer": "ipython3",
   "version": "3.12.7"
  }
 },
 "nbformat": 4,
 "nbformat_minor": 2
}
