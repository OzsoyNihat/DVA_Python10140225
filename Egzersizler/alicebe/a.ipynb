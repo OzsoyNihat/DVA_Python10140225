{
 "cells": [
  {
   "cell_type": "code",
   "execution_count": 33,
   "metadata": {},
   "outputs": [
    {
     "name": "stdout",
     "output_type": "stream",
     "text": [
      "6\n"
     ]
    }
   ],
   "source": [
    "a = 2\n",
    "b = 4\n",
    "print(a+b)"
   ]
  },
  {
   "cell_type": "code",
   "execution_count": 34,
   "metadata": {},
   "outputs": [
    {
     "name": "stdout",
     "output_type": "stream",
     "text": [
      "<class 'str'>\n"
     ]
    }
   ],
   "source": [
    "var1 = \"Ankara\"\n",
    "var2 = 'Ankara'\n",
    "print(type(var1 ))"
   ]
  },
  {
   "cell_type": "code",
   "execution_count": 35,
   "metadata": {},
   "outputs": [
    {
     "data": {
      "text/plain": [
       "'k'"
      ]
     },
     "execution_count": 35,
     "metadata": {},
     "output_type": "execute_result"
    }
   ],
   "source": [
    "var1 = \"asdjklasjdkaklsckaflaklscka\"\n",
    "var1[-2]"
   ]
  },
  {
   "cell_type": "code",
   "execution_count": 36,
   "metadata": {},
   "outputs": [
    {
     "data": {
      "text/plain": [
       "'a'"
      ]
     },
     "execution_count": 36,
     "metadata": {},
     "output_type": "execute_result"
    }
   ],
   "source": [
    "isim = input(\"İsminizi Giriniz\")\n",
    "var1 = isim\n",
    "var1[0:2]"
   ]
  },
  {
   "cell_type": "code",
   "execution_count": 37,
   "metadata": {},
   "outputs": [
    {
     "name": "stdout",
     "output_type": "stream",
     "text": [
      "-1\n"
     ]
    }
   ],
   "source": [
    "var1 = \"makale\"\n",
    "print(var1.find(\"Z\"))"
   ]
  },
  {
   "cell_type": "code",
   "execution_count": 38,
   "metadata": {},
   "outputs": [
    {
     "data": {
      "text/plain": [
       "Counter({'i': 4,\n",
       "         'a': 3,\n",
       "         't': 2,\n",
       "         'z': 2,\n",
       "         'm': 2,\n",
       "         'r': 1,\n",
       "         'p': 1,\n",
       "         'n': 1,\n",
       "         'o': 1,\n",
       "         'g': 1,\n",
       "         'b': 1,\n",
       "         'y': 1,\n",
       "         'e': 1,\n",
       "         's': 1})"
      ]
     },
     "execution_count": 38,
     "metadata": {},
     "output_type": "execute_result"
    }
   ],
   "source": [
    "from collections import Counter\n",
    "var1 = \"tripanazomigambiyetsiz\"\n",
    "Counter(var1)"
   ]
  },
  {
   "cell_type": "code",
   "execution_count": 39,
   "metadata": {},
   "outputs": [
    {
     "name": "stdout",
     "output_type": "stream",
     "text": [
      "ANkara\n"
     ]
    }
   ],
   "source": [
    "var1 = \"    cd      ANkara            \"\n",
    "print(var1.strip(\"cd \"))"
   ]
  },
  {
   "cell_type": "code",
   "execution_count": 2,
   "metadata": {},
   "outputs": [
    {
     "name": "stdout",
     "output_type": "stream",
     "text": [
      "[500, 23, 45, 130, 78, 90, 12, 1000]\n"
     ]
    }
   ],
   "source": [
    "liste = [23,45,65,78,90,12] \n",
    "liste.append(1000)\n",
    "liste.insert(0,500)\n",
    "liste[3] = liste[3]*2\n",
    "print(liste)"
   ]
  },
  {
   "cell_type": "code",
   "execution_count": 4,
   "metadata": {},
   "outputs": [
    {
     "ename": "TypeError",
     "evalue": "'<=' not supported between instances of 'str' and 'int'",
     "output_type": "error",
     "traceback": [
      "\u001b[0;31m---------------------------------------------------------------------------\u001b[0m",
      "\u001b[0;31mTypeError\u001b[0m                                 Traceback (most recent call last)",
      "Cell \u001b[0;32mIn[4], line 3\u001b[0m\n\u001b[1;32m      1\u001b[0m gsymh \u001b[38;5;241m=\u001b[39m \u001b[38;5;28minput\u001b[39m(\u001b[38;5;124m\"\u001b[39m\u001b[38;5;124mmiktar giriniz\u001b[39m\u001b[38;5;124m\"\u001b[39m)\n\u001b[1;32m      2\u001b[0m \u001b[38;5;28;01mif\u001b[39;00m gsymh\u001b[38;5;241m.\u001b[39misdigit():\n\u001b[0;32m----> 3\u001b[0m     \u001b[38;5;28;01mif\u001b[39;00m \u001b[43mgsymh\u001b[49m\u001b[43m \u001b[49m\u001b[38;5;241;43m<\u001b[39;49m\u001b[38;5;241;43m=\u001b[39;49m\u001b[43m \u001b[49m\u001b[38;5;241;43m1000\u001b[39;49m:\n\u001b[1;32m      4\u001b[0m      \u001b[38;5;28mprint\u001b[39m(\u001b[38;5;124m\"\u001b[39m\u001b[38;5;124mYoksulsunuz\u001b[39m\u001b[38;5;124m\"\u001b[39m)\n\u001b[1;32m      5\u001b[0m     \u001b[38;5;28;01melse\u001b[39;00m:\n",
      "\u001b[0;31mTypeError\u001b[0m: '<=' not supported between instances of 'str' and 'int'"
     ]
    }
   ],
   "source": [
    "gsymh = input(\"miktar giriniz\")\n",
    "if gsymh.isdigit():\n",
    "    if gsymh <= 1000:\n",
    "     print(\"Yoksulsunuz\")\n",
    "    else:\n",
    "        print(\"Şanslısınız\")"
   ]
  },
  {
   "cell_type": "code",
   "execution_count": 6,
   "metadata": {},
   "outputs": [
    {
     "name": "stdout",
     "output_type": "stream",
     "text": [
      "Oy kullanabilirsiniz\n"
     ]
    }
   ],
   "source": [
    "yaş = input(\"Yaş  Giriniz:\")\n",
    "if yaş.isdigit():\n",
    "    yaş = int(yaş)\n",
    "    if yaş <= 15:\n",
    "        print(\"Oy kullanamazsınız\")\n",
    "    else:\n",
    "        print(\"Oy kullanabilirsiniz\")\n",
    "else:\n",
    "    print(\"Yanlış Giriş\")"
   ]
  },
  {
   "cell_type": "code",
   "execution_count": 8,
   "metadata": {},
   "outputs": [
    {
     "name": "stdout",
     "output_type": "stream",
     "text": [
      "Oy Kullanabilirsiniz.\n"
     ]
    }
   ],
   "source": [
    "yas = input(\"Yaşınızı giriniz.\")\n",
    "\n",
    "if yas.isdigit():\n",
    "    if int(yas) >= 16:\n",
    "        print(\"Oy Kullanabilirsiniz.\")\n",
    "    else:\n",
    "        print(\"Yaşınız yasal sınırın altında\")\n",
    "else:\n",
    "    print(\"Lütfen doğru bilgi giriniz.\")"
   ]
  },
  {
   "cell_type": "code",
   "execution_count": 11,
   "metadata": {},
   "outputs": [
    {
     "name": "stdout",
     "output_type": "stream",
     "text": [
      "It's neither 10 nor 20\n"
     ]
    }
   ],
   "source": [
    "x = int(input(\"bir sayı giriniz\"))\n",
    "match x:\n",
    "    case 10:\n",
    "        print(\"It's 10\")\n",
    "    case 20:\n",
    "        print(\"It's 20\")\n",
    "    case _:\n",
    "        print(\"It's neither 10 nor 20\")"
   ]
  },
  {
   "cell_type": "code",
   "execution_count": 24,
   "metadata": {},
   "outputs": [
    {
     "name": "stdout",
     "output_type": "stream",
     "text": [
      "100 70\n"
     ]
    }
   ],
   "source": [
    "print(*range(100,40,-30))"
   ]
  },
  {
   "cell_type": "code",
   "execution_count": 32,
   "metadata": {},
   "outputs": [
    {
     "name": "stdout",
     "output_type": "stream",
     "text": [
      "aassddaassdd  aaddssaadd  aassdd"
     ]
    }
   ],
   "source": [
    "metin = \"asdasd adsad asd\"\n",
    "for i in range(len(metin)):\n",
    "    print(metin[i]*2,end=\"\")"
   ]
  },
  {
   "cell_type": "code",
   "execution_count": 41,
   "metadata": {},
   "outputs": [
    {
     "name": "stdout",
     "output_type": "stream",
     "text": [
      "     *\n",
      "    ***\n",
      "   *****\n",
      "  *******\n",
      " *********\n",
      "***********\n",
      " *********\n",
      "  *******\n",
      "   *****\n",
      "    ***\n",
      "     *\n",
      "      \n",
      "       \n",
      "        \n",
      "         \n"
     ]
    }
   ],
   "source": [
    "a = 1\n",
    "for i in range(10,0,-2):\n",
    "    print(\" \" * int(i / 2) + \"*\"*a) \n",
    "    a += 2\n",
    "for i in range(0,20,2):\n",
    "    print(\" \" * int(i / 2) + \"*\"*a) \n",
    "    a -= 2"
   ]
  },
  {
   "cell_type": "code",
   "execution_count": 42,
   "metadata": {},
   "outputs": [
    {
     "name": "stdout",
     "output_type": "stream",
     "text": [
      "    *\n",
      "   ***\n",
      "  *****\n",
      " *******\n",
      "*********\n",
      " *******\n",
      "  *****\n",
      "   ***\n",
      "    *\n"
     ]
    }
   ],
   "source": [
    "n = int(input(\"Sayı giriniz:\"))\n",
    "for i in range(n):\n",
    "    print(\" \"*(n-i-1),\"*\"*(2*i+1),sep=\"\")\n",
    "for i in range(n-2,-1,-1):\n",
    "    print(\" \"*(n-i-1),\"*\"*(2*i+1),sep=\"\")   "
   ]
  },
  {
   "cell_type": "code",
   "execution_count": 6,
   "metadata": {},
   "outputs": [
    {
     "data": {
      "text/plain": [
       "\"u3L3's\""
      ]
     },
     "execution_count": 6,
     "metadata": {},
     "output_type": "execute_result"
    }
   ],
   "source": [
    "\"\".join([\\\n",
    "    choice(choice((ascii_lowercase,ascii_uppercase,punctuation,digits)))\\\n",
    "        for i in range(6) \\\n",
    "            ])"
   ]
  },
  {
   "cell_type": "code",
   "execution_count": 7,
   "metadata": {},
   "outputs": [
    {
     "name": "stdout",
     "output_type": "stream",
     "text": [
      "725\n"
     ]
    }
   ],
   "source": [
    "def a(say1,say2):\n",
    "    return say1+say2\n",
    "say1 = int(input (\"bir sayı giriniz\"))\n",
    "say2 = int(input (\"bir sayı giriniz\"))\n",
    "b = say1+say2\n",
    "print(b)"
   ]
  },
  {
   "cell_type": "code",
   "execution_count": 1,
   "metadata": {},
   "outputs": [
    {
     "name": "stdout",
     "output_type": "stream",
     "text": [
      "Potansiyel SQL Injection tespit edildi.\n",
      "Geçerli bir IPv4 adresi.\n",
      "Geçersiz IBAN numarası.\n"
     ]
    }
   ],
   "source": [
    "import re\n",
    "\n",
    "def sql_injection_tespiti(query):\n",
    "    # SQL injection şüpheli karakterler\n",
    "    riskli_karakterler = [\"'\", '\"', '--', ';', '/*', '*/', 'OR', 'AND']\n",
    "    \n",
    "    # Şüpheli karakterleri kontrol et\n",
    "    for karakter in riskli_karakterler:\n",
    "        if re.search(rf\"\\b{karakter}\\b\", query, re.IGNORECASE):\n",
    "            return \"Potansiyel SQL Injection tespit edildi.\"\n",
    "    return \"SQL sorgusu güvenli görünüyor.\"\n",
    "\n",
    "# Test\n",
    "sql_sorgu = input(\"SQL sorgusunu girin: \")\n",
    "print(sql_injection_tespiti(sql_sorgu))\n",
    "\n",
    "import re\n",
    "\n",
    "def ip_adresi_dogrulama(ip):\n",
    "    # IPv4 adresi için regex deseni\n",
    "    ip_pattern = re.compile(r\"^(25[0-5]|2[0-4][0-9]|[01]?[0-9][0-9]?)\\.(25[0-5]|2[0-4][0-9]|[01]?[0-9][0-9]?)\\.(25[0-5]|2[0-4][0-9]|[01]?[0-9][0-9]?)\\.(25[0-5]|2[0-4][0-9]|[01]?[0-9][0-9]?)$\")\n",
    "    \n",
    "    if ip_pattern.match(ip):\n",
    "        return \"Geçerli bir IPv4 adresi.\"\n",
    "    else:\n",
    "        return \"Geçersiz IP adresi.\"\n",
    "\n",
    "# Test\n",
    "ip_adresi = input(\"IP adresini girin: \")\n",
    "print(ip_adresi_dogrulama(ip_adresi))\n",
    "\n",
    "import re\n",
    "\n",
    "def iban_dogrulama(iban):\n",
    "    # IBAN regex deseni\n",
    "    iban_pattern = re.compile(r\"^[A-Z]{2}[0-9]{2}[A-Z0-9]{4,30}$\")\n",
    "    \n",
    "    if iban_pattern.match(iban):\n",
    "        return \"Geçerli bir IBAN numarası.\"\n",
    "    else:\n",
    "        return \"Geçersiz IBAN numarası.\"\n",
    "\n",
    "# Test\n",
    "iban = input(\"IBAN numarasını girin: \")\n",
    "print(iban_dogrulama(iban))\n"
   ]
  },
  {
   "cell_type": "code",
   "execution_count": 4,
   "metadata": {},
   "outputs": [
    {
     "name": "stdout",
     "output_type": "stream",
     "text": [
      "1. SQL Injection Tespiti\n",
      "Potansiyel SQL Injection tespit edildi.\n",
      "\n",
      "2. IP Adresi Doğrulama\n",
      "Geçerli bir IPv4 adresi.\n",
      "\n",
      "3. IBAN Doğrulama\n",
      "Geçersiz IBAN numarası.\n"
     ]
    }
   ],
   "source": [
    "import re\n",
    "\n",
    "# SQL Injection Tespiti\n",
    "def sql_injection_tespiti(query):\n",
    "    riskli_karakterler = [\"'\", '\"', '--', ';', '/*', '*/', 'OR', 'AND']\n",
    "    for karakter in riskli_karakterler:\n",
    "        if re.search(rf\"\\b{karakter}\\b\", query, re.IGNORECASE):\n",
    "            return \"Potansiyel SQL Injection tespit edildi.\"\n",
    "    return \"SQL sorgusu güvenli görünüyor.\"\n",
    "\n",
    "# IP Adresi Doğrulama\n",
    "def ip_adresi_dogrulama(ip):\n",
    "    ip_pattern = re.compile(r\"^(25[0-5]|2[0-4][0-9]|[01]?[0-9][0-9]?)\\.(25[0-5]|2[0-4][0-9]|[01]?[0-9][0-9]?)\\.(25[0-5]|2[0-4][0-9]|[01]?[0-9][0-9]?)\\.(25[0-5]|2[0-4][0-9]|[01]?[0-9][0-9]?)$\")\n",
    "    if ip_pattern.match(ip):\n",
    "        return \"Geçerli bir IPv4 adresi.\"\n",
    "    else:\n",
    "        return \"Geçersiz IP adresi.\"\n",
    "\n",
    "# IBAN Doğrulama\n",
    "def iban_dogrulama(iban):\n",
    "    iban_pattern = re.compile(r\"^[A-Z]{2}[0-9]{2}[A-Z0-9]{4,30}$\")\n",
    "    if iban_pattern.match(iban):\n",
    "        return \"Geçerli bir IBAN numarası.\"\n",
    "    else:\n",
    "        return \"Geçersiz IBAN numarası.\"\n",
    "\n",
    "# Kullanıcıdan Giriş Al\n",
    "print(\"1. SQL Injection Tespiti\")\n",
    "sql_query = input(\"SQL sorgusunu girin: \")\n",
    "print(sql_injection_tespiti(sql_query))\n",
    "\n",
    "print(\"\\n2. IP Adresi Doğrulama\")\n",
    "ip_adresi = input(\"IP adresini girin: \")\n",
    "print(ip_adresi_dogrulama(ip_adresi))\n",
    "\n",
    "print(\"\\n3. IBAN Doğrulama\")\n",
    "iban = input(\"IBAN numarasını girin: \")\n",
    "print(iban_dogrulama(iban))\n"
   ]
  },
  {
   "cell_type": "code",
   "execution_count": null,
   "metadata": {},
   "outputs": [],
   "source": [
    "class cokgen:\n",
    "    cokgenOzelligi = \"cokgen Özelliği\"\n",
    "    def __init__(self,a):\n",
    "       self.ornekOzellik = a\n",
    "    \n",
    "    def ornekMethod(self):\n",
    "        print(self.ornekOzellik)\n",
    "\n",
    "    def sinifMethod(cls):\n",
    "        print(cls.sinifOzelligi)\n",
    "\n",
    "obj1 = Sinif(2)\n",
    "obj2 = Sinif(3)\n",
    "obj1.ornekMethod()\n",
    "obj2.ornekMethod()"
   ]
  }
 ],
 "metadata": {
  "kernelspec": {
   "display_name": "Python 3",
   "language": "python",
   "name": "python3"
  },
  "language_info": {
   "codemirror_mode": {
    "name": "ipython",
    "version": 3
   },
   "file_extension": ".py",
   "mimetype": "text/x-python",
   "name": "python",
   "nbconvert_exporter": "python",
   "pygments_lexer": "ipython3",
   "version": "3.12.7"
  }
 },
 "nbformat": 4,
 "nbformat_minor": 2
}
