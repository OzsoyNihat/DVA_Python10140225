{
 "cells": [
  {
   "cell_type": "code",
   "execution_count": 33,
   "metadata": {},
   "outputs": [
    {
     "name": "stdout",
     "output_type": "stream",
     "text": [
      "6\n"
     ]
    }
   ],
   "source": [
    "a = 2\n",
    "b = 4\n",
    "print(a+b)"
   ]
  },
  {
   "cell_type": "code",
   "execution_count": 34,
   "metadata": {},
   "outputs": [
    {
     "name": "stdout",
     "output_type": "stream",
     "text": [
      "<class 'str'>\n"
     ]
    }
   ],
   "source": [
    "var1 = \"Ankara\"\n",
    "var2 = 'Ankara'\n",
    "print(type(var1 ))"
   ]
  },
  {
   "cell_type": "code",
   "execution_count": 35,
   "metadata": {},
   "outputs": [
    {
     "data": {
      "text/plain": [
       "'k'"
      ]
     },
     "execution_count": 35,
     "metadata": {},
     "output_type": "execute_result"
    }
   ],
   "source": [
    "var1 = \"asdjklasjdkaklsckaflaklscka\"\n",
    "var1[-2]"
   ]
  },
  {
   "cell_type": "code",
   "execution_count": 36,
   "metadata": {},
   "outputs": [
    {
     "data": {
      "text/plain": [
       "'a'"
      ]
     },
     "execution_count": 36,
     "metadata": {},
     "output_type": "execute_result"
    }
   ],
   "source": [
    "isim = input(\"İsminizi Giriniz\")\n",
    "var1 = isim\n",
    "var1[0:2]"
   ]
  },
  {
   "cell_type": "code",
   "execution_count": 37,
   "metadata": {},
   "outputs": [
    {
     "name": "stdout",
     "output_type": "stream",
     "text": [
      "-1\n"
     ]
    }
   ],
   "source": [
    "var1 = \"makale\"\n",
    "print(var1.find(\"Z\"))"
   ]
  },
  {
   "cell_type": "code",
   "execution_count": 38,
   "metadata": {},
   "outputs": [
    {
     "data": {
      "text/plain": [
       "Counter({'i': 4,\n",
       "         'a': 3,\n",
       "         't': 2,\n",
       "         'z': 2,\n",
       "         'm': 2,\n",
       "         'r': 1,\n",
       "         'p': 1,\n",
       "         'n': 1,\n",
       "         'o': 1,\n",
       "         'g': 1,\n",
       "         'b': 1,\n",
       "         'y': 1,\n",
       "         'e': 1,\n",
       "         's': 1})"
      ]
     },
     "execution_count": 38,
     "metadata": {},
     "output_type": "execute_result"
    }
   ],
   "source": [
    "from collections import Counter\n",
    "var1 = \"tripanazomigambiyetsiz\"\n",
    "Counter(var1)"
   ]
  },
  {
   "cell_type": "code",
   "execution_count": 39,
   "metadata": {},
   "outputs": [
    {
     "name": "stdout",
     "output_type": "stream",
     "text": [
      "ANkara\n"
     ]
    }
   ],
   "source": [
    "var1 = \"    cd      ANkara            \"\n",
    "print(var1.strip(\"cd \"))"
   ]
  },
  {
   "cell_type": "code",
   "execution_count": 2,
   "metadata": {},
   "outputs": [
    {
     "name": "stdout",
     "output_type": "stream",
     "text": [
      "[500, 23, 45, 130, 78, 90, 12, 1000]\n"
     ]
    }
   ],
   "source": [
    "liste = [23,45,65,78,90,12] \n",
    "liste.append(1000)\n",
    "liste.insert(0,500)\n",
    "liste[3] = liste[3]*2\n",
    "print(liste)"
   ]
  },
  {
   "cell_type": "code",
   "execution_count": 4,
   "metadata": {},
   "outputs": [
    {
     "ename": "TypeError",
     "evalue": "'<=' not supported between instances of 'str' and 'int'",
     "output_type": "error",
     "traceback": [
      "\u001b[0;31m---------------------------------------------------------------------------\u001b[0m",
      "\u001b[0;31mTypeError\u001b[0m                                 Traceback (most recent call last)",
      "Cell \u001b[0;32mIn[4], line 3\u001b[0m\n\u001b[1;32m      1\u001b[0m gsymh \u001b[38;5;241m=\u001b[39m \u001b[38;5;28minput\u001b[39m(\u001b[38;5;124m\"\u001b[39m\u001b[38;5;124mmiktar giriniz\u001b[39m\u001b[38;5;124m\"\u001b[39m)\n\u001b[1;32m      2\u001b[0m \u001b[38;5;28;01mif\u001b[39;00m gsymh\u001b[38;5;241m.\u001b[39misdigit():\n\u001b[0;32m----> 3\u001b[0m     \u001b[38;5;28;01mif\u001b[39;00m \u001b[43mgsymh\u001b[49m\u001b[43m \u001b[49m\u001b[38;5;241;43m<\u001b[39;49m\u001b[38;5;241;43m=\u001b[39;49m\u001b[43m \u001b[49m\u001b[38;5;241;43m1000\u001b[39;49m:\n\u001b[1;32m      4\u001b[0m      \u001b[38;5;28mprint\u001b[39m(\u001b[38;5;124m\"\u001b[39m\u001b[38;5;124mYoksulsunuz\u001b[39m\u001b[38;5;124m\"\u001b[39m)\n\u001b[1;32m      5\u001b[0m     \u001b[38;5;28;01melse\u001b[39;00m:\n",
      "\u001b[0;31mTypeError\u001b[0m: '<=' not supported between instances of 'str' and 'int'"
     ]
    }
   ],
   "source": [
    "gsymh = input(\"miktar giriniz\")\n",
    "if gsymh.isdigit():\n",
    "    if gsymh <= 1000:\n",
    "     print(\"Yoksulsunuz\")\n",
    "    else:\n",
    "        print(\"Şanslısınız\")"
   ]
  },
  {
   "cell_type": "code",
   "execution_count": 6,
   "metadata": {},
   "outputs": [
    {
     "name": "stdout",
     "output_type": "stream",
     "text": [
      "Oy kullanabilirsiniz\n"
     ]
    }
   ],
   "source": [
    "yaş = input(\"Yaş  Giriniz:\")\n",
    "if yaş.isdigit():\n",
    "    yaş = int(yaş)\n",
    "    if yaş <= 15:\n",
    "        print(\"Oy kullanamazsınız\")\n",
    "    else:\n",
    "        print(\"Oy kullanabilirsiniz\")\n",
    "else:\n",
    "    print(\"Yanlış Giriş\")"
   ]
  },
  {
   "cell_type": "code",
   "execution_count": 8,
   "metadata": {},
   "outputs": [
    {
     "name": "stdout",
     "output_type": "stream",
     "text": [
      "Oy Kullanabilirsiniz.\n"
     ]
    }
   ],
   "source": [
    "yas = input(\"Yaşınızı giriniz.\")\n",
    "\n",
    "if yas.isdigit():\n",
    "    if int(yas) >= 16:\n",
    "        print(\"Oy Kullanabilirsiniz.\")\n",
    "    else:\n",
    "        print(\"Yaşınız yasal sınırın altında\")\n",
    "else:\n",
    "    print(\"Lütfen doğru bilgi giriniz.\")"
   ]
  },
  {
   "cell_type": "code",
   "execution_count": 11,
   "metadata": {},
   "outputs": [
    {
     "name": "stdout",
     "output_type": "stream",
     "text": [
      "It's neither 10 nor 20\n"
     ]
    }
   ],
   "source": [
    "x = int(input(\"bir sayı giriniz\"))\n",
    "match x:\n",
    "    case 10:\n",
    "        print(\"It's 10\")\n",
    "    case 20:\n",
    "        print(\"It's 20\")\n",
    "    case _:\n",
    "        print(\"It's neither 10 nor 20\")"
   ]
  },
  {
   "cell_type": "code",
   "execution_count": 24,
   "metadata": {},
   "outputs": [
    {
     "name": "stdout",
     "output_type": "stream",
     "text": [
      "100 70\n"
     ]
    }
   ],
   "source": [
    "print(*range(100,40,-30))"
   ]
  },
  {
   "cell_type": "code",
   "execution_count": 32,
   "metadata": {},
   "outputs": [
    {
     "name": "stdout",
     "output_type": "stream",
     "text": [
      "aassddaassdd  aaddssaadd  aassdd"
     ]
    }
   ],
   "source": [
    "metin = \"asdasd adsad asd\"\n",
    "for i in range(len(metin)):\n",
    "    print(metin[i]*2,end=\"\")"
   ]
  },
  {
   "cell_type": "code",
   "execution_count": 41,
   "metadata": {},
   "outputs": [
    {
     "name": "stdout",
     "output_type": "stream",
     "text": [
      "     *\n",
      "    ***\n",
      "   *****\n",
      "  *******\n",
      " *********\n",
      "***********\n",
      " *********\n",
      "  *******\n",
      "   *****\n",
      "    ***\n",
      "     *\n",
      "      \n",
      "       \n",
      "        \n",
      "         \n"
     ]
    }
   ],
   "source": [
    "a = 1\n",
    "for i in range(10,0,-2):\n",
    "    print(\" \" * int(i / 2) + \"*\"*a) \n",
    "    a += 2\n",
    "for i in range(0,20,2):\n",
    "    print(\" \" * int(i / 2) + \"*\"*a) \n",
    "    a -= 2"
   ]
  },
  {
   "cell_type": "code",
   "execution_count": 42,
   "metadata": {},
   "outputs": [
    {
     "name": "stdout",
     "output_type": "stream",
     "text": [
      "    *\n",
      "   ***\n",
      "  *****\n",
      " *******\n",
      "*********\n",
      " *******\n",
      "  *****\n",
      "   ***\n",
      "    *\n"
     ]
    }
   ],
   "source": [
    "n = int(input(\"Sayı giriniz:\"))\n",
    "for i in range(n):\n",
    "    print(\" \"*(n-i-1),\"*\"*(2*i+1),sep=\"\")\n",
    "for i in range(n-2,-1,-1):\n",
    "    print(\" \"*(n-i-1),\"*\"*(2*i+1),sep=\"\")   "
   ]
  },
  {
   "cell_type": "code",
   "execution_count": 6,
   "metadata": {},
   "outputs": [
    {
     "data": {
      "text/plain": [
       "\"u3L3's\""
      ]
     },
     "execution_count": 6,
     "metadata": {},
     "output_type": "execute_result"
    }
   ],
   "source": [
    "\"\".join([\\\n",
    "    choice(choice((ascii_lowercase,ascii_uppercase,punctuation,digits)))\\\n",
    "        for i in range(6) \\\n",
    "            ])"
   ]
  },
  {
   "cell_type": "code",
   "execution_count": 7,
   "metadata": {},
   "outputs": [
    {
     "name": "stdout",
     "output_type": "stream",
     "text": [
      "725\n"
     ]
    }
   ],
   "source": [
    "def a(say1,say2):\n",
    "    return say1+say2\n",
    "say1 = int(input (\"bir sayı giriniz\"))\n",
    "say2 = int(input (\"bir sayı giriniz\"))\n",
    "b = say1+say2\n",
    "print(b)"
   ]
  },
  {
   "cell_type": "code",
   "execution_count": 1,
   "metadata": {},
   "outputs": [
    {
     "name": "stdout",
     "output_type": "stream",
     "text": [
      "Potansiyel SQL Injection tespit edildi.\n",
      "Geçerli bir IPv4 adresi.\n",
      "Geçersiz IBAN numarası.\n"
     ]
    }
   ],
   "source": [
    "import re\n",
    "\n",
    "def sql_injection_tespiti(query):\n",
    "    # SQL injection şüpheli karakterler\n",
    "    riskli_karakterler = [\"'\", '\"', '--', ';', '/*', '*/', 'OR', 'AND']\n",
    "    \n",
    "    # Şüpheli karakterleri kontrol et\n",
    "    for karakter in riskli_karakterler:\n",
    "        if re.search(rf\"\\b{karakter}\\b\", query, re.IGNORECASE):\n",
    "            return \"Potansiyel SQL Injection tespit edildi.\"\n",
    "    return \"SQL sorgusu güvenli görünüyor.\"\n",
    "\n",
    "# Test\n",
    "sql_sorgu = input(\"SQL sorgusunu girin: \")\n",
    "print(sql_injection_tespiti(sql_sorgu))\n",
    "\n",
    "import re\n",
    "\n",
    "def ip_adresi_dogrulama(ip):\n",
    "    # IPv4 adresi için regex deseni\n",
    "    ip_pattern = re.compile(r\"^(25[0-5]|2[0-4][0-9]|[01]?[0-9][0-9]?)\\.(25[0-5]|2[0-4][0-9]|[01]?[0-9][0-9]?)\\.(25[0-5]|2[0-4][0-9]|[01]?[0-9][0-9]?)\\.(25[0-5]|2[0-4][0-9]|[01]?[0-9][0-9]?)$\")\n",
    "    \n",
    "    if ip_pattern.match(ip):\n",
    "        return \"Geçerli bir IPv4 adresi.\"\n",
    "    else:\n",
    "        return \"Geçersiz IP adresi.\"\n",
    "\n",
    "# Test\n",
    "ip_adresi = input(\"IP adresini girin: \")\n",
    "print(ip_adresi_dogrulama(ip_adresi))\n",
    "\n",
    "import re\n",
    "\n",
    "def iban_dogrulama(iban):\n",
    "    # IBAN regex deseni\n",
    "    iban_pattern = re.compile(r\"^[A-Z]{2}[0-9]{2}[A-Z0-9]{4,30}$\")\n",
    "    \n",
    "    if iban_pattern.match(iban):\n",
    "        return \"Geçerli bir IBAN numarası.\"\n",
    "    else:\n",
    "        return \"Geçersiz IBAN numarası.\"\n",
    "\n",
    "# Test\n",
    "iban = input(\"IBAN numarasını girin: \")\n",
    "print(iban_dogrulama(iban))\n"
   ]
  },
  {
   "cell_type": "code",
   "execution_count": 4,
   "metadata": {},
   "outputs": [
    {
     "name": "stdout",
     "output_type": "stream",
     "text": [
      "1. SQL Injection Tespiti\n",
      "Potansiyel SQL Injection tespit edildi.\n",
      "\n",
      "2. IP Adresi Doğrulama\n",
      "Geçerli bir IPv4 adresi.\n",
      "\n",
      "3. IBAN Doğrulama\n",
      "Geçersiz IBAN numarası.\n"
     ]
    }
   ],
   "source": [
    "import re\n",
    "\n",
    "# SQL Injection Tespiti\n",
    "def sql_injection_tespiti(query):\n",
    "    riskli_karakterler = [\"'\", '\"', '--', ';', '/*', '*/', 'OR', 'AND']\n",
    "    for karakter in riskli_karakterler:\n",
    "        if re.search(rf\"\\b{karakter}\\b\", query, re.IGNORECASE):\n",
    "            return \"Potansiyel SQL Injection tespit edildi.\"\n",
    "    return \"SQL sorgusu güvenli görünüyor.\"\n",
    "\n",
    "# IP Adresi Doğrulama\n",
    "def ip_adresi_dogrulama(ip):\n",
    "    ip_pattern = re.compile(r\"^(25[0-5]|2[0-4][0-9]|[01]?[0-9][0-9]?)\\.(25[0-5]|2[0-4][0-9]|[01]?[0-9][0-9]?)\\.(25[0-5]|2[0-4][0-9]|[01]?[0-9][0-9]?)\\.(25[0-5]|2[0-4][0-9]|[01]?[0-9][0-9]?)$\")\n",
    "    if ip_pattern.match(ip):\n",
    "        return \"Geçerli bir IPv4 adresi.\"\n",
    "    else:\n",
    "        return \"Geçersiz IP adresi.\"\n",
    "\n",
    "# IBAN Doğrulama\n",
    "def iban_dogrulama(iban):\n",
    "    iban_pattern = re.compile(r\"^[A-Z]{2}[0-9]{2}[A-Z0-9]{4,30}$\")\n",
    "    if iban_pattern.match(iban):\n",
    "        return \"Geçerli bir IBAN numarası.\"\n",
    "    else:\n",
    "        return \"Geçersiz IBAN numarası.\"\n",
    "\n",
    "# Kullanıcıdan Giriş Al\n",
    "print(\"1. SQL Injection Tespiti\")\n",
    "sql_query = input(\"SQL sorgusunu girin: \")\n",
    "print(sql_injection_tespiti(sql_query))\n",
    "\n",
    "print(\"\\n2. IP Adresi Doğrulama\")\n",
    "ip_adresi = input(\"IP adresini girin: \")\n",
    "print(ip_adresi_dogrulama(ip_adresi))\n",
    "\n",
    "print(\"\\n3. IBAN Doğrulama\")\n",
    "iban = input(\"IBAN numarasını girin: \")\n",
    "print(iban_dogrulama(iban))\n"
   ]
  },
  {
   "cell_type": "code",
   "execution_count": 5,
   "metadata": {},
   "outputs": [
    {
     "name": "stdout",
     "output_type": "stream",
     "text": [
      "Üçgenin Kenar Sayısı: 3, İç Açı Toplamı: 180 derece\n",
      "Karenin Kenar Sayısı: 4, İç Açı Toplamı: 360 derece\n"
     ]
    }
   ],
   "source": [
    "class Cokgen:\n",
    "    def __init__(self, kenar_sayisi):\n",
    "        self.kenar_sayisi = kenar_sayisi\n",
    "\n",
    "    def icerik_aci_toplami(self):\n",
    "\n",
    "        return (self.kenar_sayisi - 2) * 180\n",
    "\n",
    "# Üçgen sınıfı, Cokgen sınıfından türetiliyor\n",
    "class Ucgen(Cokgen):\n",
    "    def __init__(self):\n",
    "        # Üçgenin 3 kenarı vardır\n",
    "        super().__init__(3)\n",
    "\n",
    "# Kare sınıfı, Cokgen sınıfından türetiliyor\n",
    "class Kare(Cokgen):\n",
    "    def __init__(self):\n",
    "        # Karenin 4 kenarı vardır\n",
    "        super().__init__(4)\n",
    "\n",
    "# Nesneleri oluşturuyoruz\n",
    "ucgen = Ucgen()\n",
    "kare = Kare()\n",
    "\n",
    "# Üçgen ve Kare'ye ait kenar sayısı ve iç açı toplamlarını yazdırıyoruz\n",
    "print(f\"Üçgenin Kenar Sayısı: {ucgen.kenar_sayisi}, İç Açı Toplamı: {ucgen.icerik_aci_toplami()} derece\")\n",
    "print(f\"Karenin Kenar Sayısı: {kare.kenar_sayisi}, İç Açı Toplamı: {kare.icerik_aci_toplami()} derece\")\n",
    "\n"
   ]
  },
  {
   "cell_type": "code",
   "execution_count": null,
   "metadata": {},
   "outputs": [],
   "source": [
    "## Encapsulation\n",
    "class Araba():\n",
    "tip = \"Binek Otomobil\"\n",
    "def __init__(self,plaka,marka,model,saseno):\n",
    "self.plaka = plaka\n",
    "self.marka = marka\n",
    "self.model = model   \n",
    "self.__saseno = saseno\n",
    "\n",
    "\n",
    "\n",
    "\n",
    "    # getter\n",
    "    @property\n",
    "    def __saseno(self):\n",
    "        if self.saseno == 1:\n",
    "            return self.__saseno\n",
    "        else:\n",
    "            raise Exception(\"Sase no Hatası\")\n",
    "    \n",
    "    @gizli.setter\n",
    "    def gizli(self,param):\n",
    "        if type(param) == int:\n",
    "            if param in range(1,20):\n",
    "                self.__gizli = param\n",
    "            else:\n",
    "                raise Exception(\"Limit Hatası\")\n",
    "        else:\n",
    "            raise ValueError(\"Değer Hatası\")\n",
    "\n",
    "    @gizli.deleter\n",
    "    def gizli(self):\n",
    "        self.__gizli*=-1\n",
    "    \n",
    "    def ornekMethod(self):\n",
    "        print(self.ornekOzellik)\n",
    "\n",
    "    def sinifMethod(cls):\n",
    "        print(cls.sinifOzelligi)"
   ]
  },
  {
   "cell_type": "code",
   "execution_count": null,
   "metadata": {},
   "outputs": [],
   "source": [
    "obj1 = Sinif(1)\n",
    "obj1.gizli = 2\n",
    "print(obj1.gizli)\n",
    "del obj1.gizli\n",
    "print(obj1.gizli)"
   ]
  },
  {
   "cell_type": "code",
   "execution_count": 1,
   "metadata": {},
   "outputs": [
    {
     "ename": "ModuleNotFoundError",
     "evalue": "No module named 'app'",
     "output_type": "error",
     "traceback": [
      "\u001b[0;31m---------------------------------------------------------------------------\u001b[0m",
      "\u001b[0;31mModuleNotFoundError\u001b[0m                       Traceback (most recent call last)",
      "Cell \u001b[0;32mIn[1], line 2\u001b[0m\n\u001b[1;32m      1\u001b[0m \u001b[38;5;28;01mfrom\u001b[39;00m \u001b[38;5;21;01mflask\u001b[39;00m \u001b[38;5;28;01mimport\u001b[39;00m Blueprint,request,jsonify\n\u001b[0;32m----> 2\u001b[0m \u001b[38;5;28;01mfrom\u001b[39;00m \u001b[38;5;21;01mapp\u001b[39;00m\u001b[38;5;21;01m.\u001b[39;00m\u001b[38;5;21;01mmodels\u001b[39;00m \u001b[38;5;28;01mimport\u001b[39;00m Kitap,kitap_schema,kitapler_schema,User,user_schema,users_schema\n\u001b[1;32m      3\u001b[0m \u001b[38;5;28;01mfrom\u001b[39;00m \u001b[38;5;21;01mapp\u001b[39;00m \u001b[38;5;28;01mimport\u001b[39;00m db\n\u001b[1;32m      4\u001b[0m \u001b[38;5;28;01mfrom\u001b[39;00m \u001b[38;5;21;01mdatetime\u001b[39;00m \u001b[38;5;28;01mimport\u001b[39;00m datetime\n",
      "\u001b[0;31mModuleNotFoundError\u001b[0m: No module named 'app'"
     ]
    }
   ],
   "source": [
    "from flask import Blueprint,request,jsonify\n",
    "from app.models import Kitap,kitap_schema,kitapler_schema,User,user_schema,users_schema\n",
    "from app import db\n",
    "from datetime import datetime\n",
    "from flask_jwt_extended import jwt_required,create_access_token,get_jwt_identity\n",
    "\n",
    "main = Blueprint('main',__name__)\n",
    "\n",
    "@main.route('/register',methods=['POST'])\n",
    "def register():\n",
    "    data = request.get_json()\n",
    "    username = data.get('username')\n",
    "    password = data.get('password')\n",
    "    if not username or not password:\n",
    "        return jsonify({\"error\":\"Kullanıcı adı ve şifre gereklidir\"}),400\n",
    "\n",
    "    user = User.query.filter_by(username=username).first()\n",
    "    if user:\n",
    "        return jsonify({\"error\":\"Bu kullanıcı zaten mevcut\"}),400\n",
    "    \n",
    "    yeni_kullanici = User(username=username)\n",
    "    yeni_kullanici.set_password(password)\n",
    "    db.session.add(yeni_kullanici)\n",
    "    db.session.commit()\n",
    "    return jsonify({\"message\":\"Kullanıcı olusturuldu\"}),201\n",
    "\n",
    "\n",
    "@main.route('/login',methods=['POST'])\n",
    "def login():\n",
    "    data = request.get_json()\n",
    "    username = data.get('username')\n",
    "    password = data.get('password')\n",
    "    if not username or not password:\n",
    "        return jsonify({\"error\":\"Kullanıcı adı ve şifre gereklidir\"}),400\n",
    "    user = User.query.filter_by(username=username).first()\n",
    "    if not user or not user.check_password(password):\n",
    "        return jsonify({\"error\":\"Kullanıcı adı veya şifre hatalı\"}),400\n",
    "    access_token = create_access_token(identity=user.id)\n",
    "    return jsonify({\"access_token\":access_token})\n",
    "\n",
    "@main.route('/protected',methods=['GET'])\n",
    "@jwt_required()\n",
    "def protected():\n",
    "    user_id = get_jwt_identity()\n",
    "    user = User.query.get_or_404(user_id)\n",
    "    result = user_schema.dump(user)\n",
    "    return jsonify(result)\n",
    "\n",
    "@main.route('/api/kitaplar',methods=['GET'])\n",
    "def kitaplar():\n",
    "    kitaplar = Kitap.query.all()\n",
    "    result = kitapler_schema.dump(kitaplar)\n",
    "    return jsonify(result)\n",
    "\n",
    "@main.route('/api/kitaplar/<int:id>',methods=['GET'])\n",
    "def kitap(id):\n",
    "    kitap = Kitap.query.get_or_404(id)\n",
    "    result = kitap_schema.dump(kitap)\n",
    "    return jsonify(result)\n",
    "\n",
    "\n",
    "@main.route('/api/kitaplar',methods=['POST'])\n",
    "def kitap_ekle():\n",
    "    try:\n",
    "        data = request.get_json()\n",
    "        kitap_adi = data['kitap_adi']\n",
    "        yazar = data['yazar']\n",
    "        isbn = data['isbn']\n",
    "        yayim_tarihi = datetime.strptime(data['yayim_tarihi'], '%Y-%m-%d')\n",
    "        yeni_kitap = Kitap(kitap_adi=kitap_adi,\n",
    "                           yazar=yazar,\n",
    "                           isbn=isbn,\n",
    "                           yayim_tarihi=yayim_tarihi)\n",
    "        db.session.add(yeni_kitap)\n",
    "        db.session.commit()\n",
    "        result = kitap_schema.dump(yeni_kitap)\n",
    "        return jsonify(result),201\n",
    "    except Exception as e:\n",
    "        return jsonify({\"error\":str(e)}),400\n",
    "\n",
    "\n",
    "@main.route('/api/kitaplar/<int:id>',methods=['PUT'])\n",
    "def kitap_guncelle(id):\n",
    "    kitap = Kitap.query.get_or_404(id)\n",
    "    data = request.get_json()\n",
    "    try:\n",
    "        if 'kitap_adi' in data:\n",
    "            kitap.kitap_adi = data['kitap_adi']\n",
    "        if 'yazar' in data:\n",
    "            kitap.yazar = data['yazar']\n",
    "        if 'isbn' in data:\n",
    "            kitap.isbn = data['isbn']\n",
    "        if 'yayim_tarihi' in data:\n",
    "            kitap.yayim_tarihi = datetime.strptime(data['yayim_tarihi'], '%Y-%m-%d')\n",
    "        db.session.commit()\n",
    "        result = kitap_schema.dump(kitap)\n",
    "        return jsonify(result),200\n",
    "    except Exception as e:\n",
    "        return jsonify({\"error\":str(e)}),400\n",
    "\n",
    "\n",
    "@main.route('/api/kitaplar/<int:id>',methods=['DELETE'])\n",
    "def kitap_sil(id):\n",
    "    kitap = Kitap.query.get_or_404(id)\n",
    "    try:\n",
    "        db.session.delete(kitap)\n",
    "        db.session.commit()\n",
    "        return jsonify({\"message\":\"Kitap Silindi\"}),200\n",
    "    except Exception as e:\n",
    "        return jsonify({\"error\":str(e)}),400\n",
    "    \n",
    "@main.errorhandler(404)\n",
    "def not_found(error):\n",
    "    return jsonify({\"error\":\"Kitap Bulunamadi\"}),404\n",
    "\n",
    "@main.errorhandler(400)\n",
    "def bad_request(error):\n",
    "    return jsonify({\"error\":\"Bad Request\"}),400\n",
    "\n",
    "\n"
   ]
  },
  {
   "cell_type": "code",
   "execution_count": null,
   "metadata": {},
   "outputs": [],
   "source": []
  }
 ],
 "metadata": {
  "kernelspec": {
   "display_name": "Python 3",
   "language": "python",
   "name": "python3"
  },
  "language_info": {
   "codemirror_mode": {
    "name": "ipython",
    "version": 3
   },
   "file_extension": ".py",
   "mimetype": "text/x-python",
   "name": "python",
   "nbconvert_exporter": "python",
   "pygments_lexer": "ipython3",
   "version": "3.12.7"
  }
 },
 "nbformat": 4,
 "nbformat_minor": 2
}
