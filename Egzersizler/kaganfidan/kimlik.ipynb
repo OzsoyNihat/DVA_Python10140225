{
 "cells": [
  {
   "cell_type": "code",
   "execution_count": 2,
   "metadata": {},
   "outputs": [],
   "source": [
    "for h1 in range(1, 10):  # h1 sıfırdan farklı olacak\n",
    "    for h3 in range(10):\n",
    "        for h5 in range(10):\n",
    "            for h7 in range(10):\n",
    "                for h9 in range(10):\n",
    "                    for h2 in range(10):\n",
    "                        for h4 in range(10):\n",
    "                            for h6 in range(10):\n",
    "                                for h8 in range(10):\n",
    "                                    # 10. haneyi hesapla\n",
    "                                    h10 = (7 * (h1 + h3 + h5 + h7 + h9) - (h2 + h4 + h6 + h8)) % 10\n",
    "                                    \n",
    "                                    # 11. haneyi kontrol et (1-10 hanelerinin toplamı % 10 = 11. hane olmalı)\n",
    "                                    if (sum([h1, h2, h3, h4, h5, h6, h7, h8, h9, h10]) % 10 == 11):\n",
    "                                        print(h1, h2, h3, h4, h5, h6, h7, h8, h9, h10)\n"
   ]
  }
 ],
 "metadata": {
  "kernelspec": {
   "display_name": "Python 3",
   "language": "python",
   "name": "python3"
  },
  "language_info": {
   "codemirror_mode": {
    "name": "ipython",
    "version": 3
   },
   "file_extension": ".py",
   "mimetype": "text/x-python",
   "name": "python",
   "nbconvert_exporter": "python",
   "pygments_lexer": "ipython3",
   "version": "3.12.7"
  }
 },
 "nbformat": 4,
 "nbformat_minor": 2
}
