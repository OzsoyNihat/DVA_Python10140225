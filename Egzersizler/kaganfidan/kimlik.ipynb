{
 "cells": [
  {
   "cell_type": "code",
   "execution_count": 1,
   "metadata": {},
   "outputs": [
    {
     "name": "stdout",
     "output_type": "stream",
     "text": [
      "Üçgen Kenar Sayısı: 3\n",
      "Üçgen İç Açılar Toplamı: 180\n",
      "Kare Kenar Sayısı: 4\n",
      "Kare İç Açılar Toplamı: 360\n"
     ]
    }
   ],
   "source": [
    "class Cokgen:\n",
    "    sinifOzelligi = \"Çokgen Özelliği\"\n",
    "    \n",
    "    def __init__(self, kenarSayisi):\n",
    "        self.kenarSayisi = kenarSayisi\n",
    "    \n",
    "    def icAcilarToplami(self):\n",
    "        return (self.kenarSayisi - 2) * 180\n",
    "    \n",
    "    @classmethod\n",
    "    def sinifMethod(cls):\n",
    "        print(cls.sinifOzelligi)\n",
    "\n",
    "class Ucgen(Cokgen):\n",
    "    def __init__(self):\n",
    "        super().__init__(3)\n",
    "        \n",
    "class Kare(Cokgen):\n",
    "    def __init__(self):\n",
    "        super().__init__(4)\n",
    "\n",
    "ucgen = Ucgen()\n",
    "kare = Kare()\n",
    "\n",
    "print(\"Üçgen Kenar Sayısı:\", ucgen.kenarSayisi)\n",
    "print(\"Üçgen İç Açılar Toplamı:\", ucgen.icAcilarToplami())\n",
    "\n",
    "print(\"Kare Kenar Sayısı:\", kare.kenarSayisi)\n",
    "print(\"Kare İç Açılar Toplamı:\", kare.icAcilarToplami())\n"
   ]
  },
  {
   "cell_type": "code",
   "execution_count": null,
   "metadata": {},
   "outputs": [
    {
     "ename": "ValueError",
     "evalue": "invalid literal for int() with base 10: '5,'",
     "output_type": "error",
     "traceback": [
      "\u001b[0;31m---------------------------------------------------------------------------\u001b[0m",
      "\u001b[0;31mValueError\u001b[0m                                Traceback (most recent call last)",
      "Cell \u001b[0;32mIn[3], line 25\u001b[0m\n\u001b[1;32m     22\u001b[0m         \u001b[38;5;28msuper\u001b[39m()\u001b[38;5;241m.\u001b[39m\u001b[38;5;21m__init__\u001b[39m(kenarSayisi)\n\u001b[1;32m     24\u001b[0m ucgen \u001b[38;5;241m=\u001b[39m Ucgen()\n\u001b[0;32m---> 25\u001b[0m kare \u001b[38;5;241m=\u001b[39m \u001b[43mKare\u001b[49m\u001b[43m(\u001b[49m\u001b[43m)\u001b[49m\n\u001b[1;32m     27\u001b[0m \u001b[38;5;28mprint\u001b[39m(\u001b[38;5;124m\"\u001b[39m\u001b[38;5;124mÜçgen Kenar Sayısı:\u001b[39m\u001b[38;5;124m\"\u001b[39m, ucgen\u001b[38;5;241m.\u001b[39mkenarSayisi)\n\u001b[1;32m     28\u001b[0m \u001b[38;5;28mprint\u001b[39m(\u001b[38;5;124m\"\u001b[39m\u001b[38;5;124mÜçgen İç Açılar Toplamı:\u001b[39m\u001b[38;5;124m\"\u001b[39m, ucgen\u001b[38;5;241m.\u001b[39micAcilarToplami())\n",
      "Cell \u001b[0;32mIn[3], line 21\u001b[0m, in \u001b[0;36mKare.__init__\u001b[0;34m(self)\u001b[0m\n\u001b[1;32m     20\u001b[0m \u001b[38;5;28;01mdef\u001b[39;00m \u001b[38;5;21m__init__\u001b[39m(\u001b[38;5;28mself\u001b[39m):\n\u001b[0;32m---> 21\u001b[0m     kenarSayisi \u001b[38;5;241m=\u001b[39m \u001b[38;5;28;43mint\u001b[39;49m\u001b[43m(\u001b[49m\u001b[38;5;28;43minput\u001b[39;49m\u001b[43m(\u001b[49m\u001b[38;5;124;43m\"\u001b[39;49m\u001b[38;5;124;43mKarenin kenar sayısını girin: \u001b[39;49m\u001b[38;5;124;43m\"\u001b[39;49m\u001b[43m)\u001b[49m\u001b[43m)\u001b[49m\n\u001b[1;32m     22\u001b[0m     \u001b[38;5;28msuper\u001b[39m()\u001b[38;5;241m.\u001b[39m\u001b[38;5;21m__init__\u001b[39m(kenarSayisi)\n",
      "\u001b[0;31mValueError\u001b[0m: invalid literal for int() with base 10: '5,'"
     ]
    }
   ],
   "source": [
    "\n"
   ]
  },
  {
   "cell_type": "code",
   "execution_count": 4,
   "metadata": {},
   "outputs": [
    {
     "name": "stdout",
     "output_type": "stream",
     "text": [
      "Üçgen Kenar Sayısı: 3\n",
      "Üçgen İç Açılar Toplamı: 180\n",
      "Kare Kenar Sayısı: 4\n",
      "Kare İç Açılar Toplamı: 360\n"
     ]
    }
   ],
   "source": [
    "class Cokgen:\n",
    "    sinifOzelligi = \"Çokgen Özelliği\"\n",
    "    \n",
    "    def __init__(self, kenarSayisi):\n",
    "        self.kenarSayisi = kenarSayisi\n",
    "    \n",
    "    def icAcilarToplami(self):\n",
    "        return (self.kenarSayisi - 2) * 180\n",
    "    \n",
    "    @classmethod\n",
    "    def sinifMethod(cls):\n",
    "        print(cls.sinifOzelligi)\n",
    "\n",
    "class Ucgen(Cokgen):\n",
    "    def __init__(self, kenarSayisi):\n",
    "        super().__init__(kenarSayisi)\n",
    "\n",
    "class Kare(Cokgen):\n",
    "    def __init__(self, kenarSayisi):\n",
    "        super().__init__(kenarSayisi)\n",
    "\n",
    "kenarSayisi = int(input(\"Kenar sayısını girin (Üçgen ve Kare için): \"))\n",
    "\n",
    "ucgen = Ucgen(3)  # Üçgenin kenar sayısı her zaman 3 olacak\n",
    "kare = Kare(4)    # Karenin kenar sayısı her zaman 4 olacak\n",
    "\n",
    "print(\"Üçgen Kenar Sayısı:\", ucgen.kenarSayisi)\n",
    "print(\"Üçgen İç Açılar Toplamı:\", ucgen.icAcilarToplami())\n",
    "\n",
    "print(\"Kare Kenar Sayısı:\", kare.kenarSayisi)\n",
    "print(\"Kare İç Açılar Toplamı:\", kare.icAcilarToplami())\n"
   ]
  },
  {
   "cell_type": "code",
   "execution_count": 6,
   "metadata": {},
   "outputs": [],
   "source": [
    "class Araba:\n",
    "    tip = \"Binek Otomobil\"\n",
    "    \n",
    "    def __init__(self, plaka, marka, model, saseno):\n",
    "        self.plaka = plaka\n",
    "        self.marka = marka\n",
    "        self.model = model\n",
    "        self.__saseno = saseno\n",
    "\n",
    "    def bilgiVer(self):\n",
    "        print(self.marka, self.model)\n",
    "        print(\"Plaka:\", self.plaka)\n",
    "    \n",
    "    @property\n",
    "    def saseno(self):\n",
    "        return self.__saseno\n",
    "    \n",
    "    @saseno.setter\n",
    "    def saseno(self, value):\n",
    "        if len(value) == 10:\n",
    "            self.__saseno = value\n",
    "        else:\n",
    "            print(\"Şase numarası 10 karakter olmalıdır.\")\n",
    "    \n",
    "    @saseno.deleter\n",
    "    def saseno(self):\n",
    "        print(\"Şase numarası silindi.\")\n",
    "        del self.__saseno\n"
   ]
  }
 ],
 "metadata": {
  "kernelspec": {
   "display_name": "Python 3",
   "language": "python",
   "name": "python3"
  },
  "language_info": {
   "codemirror_mode": {
    "name": "ipython",
    "version": 3
   },
   "file_extension": ".py",
   "mimetype": "text/x-python",
   "name": "python",
   "nbconvert_exporter": "python",
   "pygments_lexer": "ipython3",
   "version": "3.12.7"
  }
 },
 "nbformat": 4,
 "nbformat_minor": 2
}
