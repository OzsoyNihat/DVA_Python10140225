{
 "cells": [
  {
   "cell_type": "code",
   "execution_count": null,
   "metadata": {},
   "outputs": [],
   "source": [
    "# Soru 4:\n",
    "#    *\n",
    "#   ***\n",
    "#  *****\n",
    "# *******\n",
    "#  *****\n",
    "#   ***\n",
    "#    *\n",
    "# yukarıda yer alan şekli elde edebilmek için gerekli python\n",
    "# kodunu yazınız"
   ]
  },
  {
   "cell_type": "code",
   "execution_count": 1,
   "metadata": {},
   "outputs": [
    {
     "name": "stdout",
     "output_type": "stream",
     "text": [
      "   *\n",
      "  ***\n",
      " *****\n",
      "*******\n",
      " *****\n",
      "  ***\n",
      "   *\n"
     ]
    }
   ],
   "source": [
    "# Üst kısmı çizmek için\n",
    "for i in range(1, 8, 2):\n",
    "    print(' ' * ((7 - i) // 2) + '*' * i)\n",
    "\n",
    "# Alt kısmı çizmek için\n",
    "for i in range(5, 0, -2):\n",
    "    print(' ' * ((7 - i) // 2) + '*' * i)"
   ]
  },
  {
   "cell_type": "code",
   "execution_count": 2,
   "metadata": {},
   "outputs": [
    {
     "name": "stdout",
     "output_type": "stream",
     "text": [
      "   *\n",
      "  ***\n",
      " *****\n",
      "*******\n"
     ]
    }
   ],
   "source": [
    "for i in range(1, 8, 2):\n",
    "    print(' ' * ((7 - i) // 2) + '*' * i)"
   ]
  },
  {
   "cell_type": "code",
   "execution_count": 3,
   "metadata": {},
   "outputs": [
    {
     "name": "stdout",
     "output_type": "stream",
     "text": [
      " *****\n",
      "  ***\n",
      "   *\n"
     ]
    }
   ],
   "source": [
    "for i in range(5, 0, -2):\n",
    "    print(' ' * ((7 - i) // 2) + '*' * i)"
   ]
  },
  {
   "cell_type": "code",
   "execution_count": null,
   "metadata": {},
   "outputs": [],
   "source": [
    "# Soru 5:\n",
    "# from random import choice\n",
    "# from string import ascii_lowercase,ascii_uppercase,punctuation,digits\n",
    "\n",
    "# yukarıda yer alan kütüphanelerden faydalanarak\n",
    "# 1. En az 8 karakter uzunluğunda\n",
    "# 2. En az 1 Rakam \n",
    "# 3. En az 1 Küçük Harf \n",
    "# 4. En az 1 Büyük Harf\n",
    "# 5. En az 1 Noktalama\n",
    "# 6. Kharf ve Bharf yan yana gelmesin Numara ve kHarf yan yana gelmesin"
   ]
  },
  {
   "cell_type": "code",
   "execution_count": 3,
   "metadata": {},
   "outputs": [
    {
     "name": "stdout",
     "output_type": "stream",
     "text": [
      "p1tv/W>j\n"
     ]
    }
   ],
   "source": [
    "from random import choice\n",
    "from string import ascii_lowercase, ascii_uppercase, punctuation, digits\n",
    "\n",
    "def generate_password():\n",
    "    # Şifreyi oluşturmak için gerekli karakter kümelerini tanımlıyoruz\n",
    "    lower = ascii_lowercase\n",
    "    upper = ascii_uppercase\n",
    "    punct = punctuation\n",
    "    num = digits\n",
    "    \n",
    "    # Başlangıçta en az bir küçük harf, büyük harf, rakam ve noktalama işareti ekliyoruz\n",
    "    password = [\n",
    "        choice(lower), \n",
    "        choice(upper),\n",
    "        choice(num), \n",
    "        choice(punct)\n",
    "    ]\n",
    "    \n",
    "    # Geriye kalan 4 karakteri rastgele seçiyoruz (kurallara uygun olacak şekilde)\n",
    "    all_chars = lower + upper + num + punct\n",
    "    while len(password) < 8:\n",
    "        # Yan yana harf ve rakam gelmemesi için dikkat etmeliyiz\n",
    "        next_char = choice(all_chars)\n",
    "        if len(password) > 0:\n",
    "            # Son eklenen karaktere göre kontrol yapalım\n",
    "            last_char = password[-1]\n",
    "            if (last_char in lower + upper) and (next_char in num): \n",
    "                continue  # Eğer bir harf ve rakam yan yana geliyorsa, yeni bir karakter seçiyoruz.\n",
    "            elif (last_char in num) and (next_char in lower + upper):\n",
    "                continue  # Eğer bir rakam ve harf yan yana geliyorsa, yeni bir karakter seçiyoruz.\n",
    "        \n",
    "        password.append(next_char)\n",
    "\n",
    "    # Şifreyi karıştırıyoruz (karakterlerin sırayla gelmesini engellemek için)\n",
    "    from random import shuffle\n",
    "    shuffle(password)\n",
    "    \n",
    "    # Listeyi birleştirip string haline getiriyoruz\n",
    "    return ''.join(password)\n",
    "\n",
    "# Şifreyi oluşturup yazdıralım\n",
    "print(generate_password())\n"
   ]
  }
 ],
 "metadata": {
  "kernelspec": {
   "display_name": "Python 3",
   "language": "python",
   "name": "python3"
  },
  "language_info": {
   "codemirror_mode": {
    "name": "ipython",
    "version": 3
   },
   "file_extension": ".py",
   "mimetype": "text/x-python",
   "name": "python",
   "nbconvert_exporter": "python",
   "pygments_lexer": "ipython3",
   "version": "3.12.7"
  }
 },
 "nbformat": 4,
 "nbformat_minor": 2
}
