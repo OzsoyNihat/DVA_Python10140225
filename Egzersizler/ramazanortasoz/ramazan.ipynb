{
 "cells": [
  {
   "cell_type": "code",
   "execution_count": null,
   "metadata": {},
   "outputs": [],
   "source": [
    "# Soru 1:\n",
    "# input fonksiyonu ile kullanıcıdan ismini isteyiniz. \n",
    "# kullanıcının girmiş olduğu veririnin ilk 2 karakterini ekrana yazdıran python kodunu yazınız\n"
   ]
  },
  {
   "cell_type": "code",
   "execution_count": null,
   "metadata": {},
   "outputs": [
    {
     "name": "stdout",
     "output_type": "stream",
     "text": [
      "namülüs\n"
     ]
    }
   ],
   "source": [
    "isim = input(\"Lütfen isminizi girin: \")\n",
    "print(isim[:2])"
   ]
  },
  {
   "cell_type": "code",
   "execution_count": null,
   "metadata": {},
   "outputs": [],
   "source": [
    "# Soru 2:\n",
    "# liste = [23,45,65,78,90,12] \n",
    "# a. Liste sonuna 1000 sayısını ekleyiniz\n",
    "# b. Liste 0. indisine 500 sayısını ekleyiniz\n",
    "# c. Listenin 3. indisinde yer alan sayıyı 2 katı ile değiştiriniz\n",
    "# d. Listeyi ekrana yazdırınız\n",
    "# Beklenen Çıktı\n",
    "# [500,23,45,130,78,90,12,1000]"
   ]
  },
  {
   "cell_type": "code",
   "execution_count": 4,
   "metadata": {},
   "outputs": [
    {
     "name": "stdout",
     "output_type": "stream",
     "text": [
      "[23, 45, 65, 78, 90, 12]\n"
     ]
    }
   ],
   "source": [
    "liste = [23, 45, 65, 78, 90, 12]\n",
    "print(liste)"
   ]
  },
  {
   "cell_type": "code",
   "execution_count": 5,
   "metadata": {},
   "outputs": [
    {
     "name": "stdout",
     "output_type": "stream",
     "text": [
      "[23, 45, 65, 78, 90, 12, 1000]\n"
     ]
    }
   ],
   "source": [
    "liste.append(1000)\n",
    "print(liste)"
   ]
  },
  {
   "cell_type": "code",
   "execution_count": 6,
   "metadata": {},
   "outputs": [
    {
     "name": "stdout",
     "output_type": "stream",
     "text": [
      "[500, 23, 45, 65, 78, 90, 12, 1000]\n"
     ]
    }
   ],
   "source": [
    "liste.insert(0, 500)\n",
    "print(liste)"
   ]
  },
  {
   "cell_type": "code",
   "execution_count": 7,
   "metadata": {},
   "outputs": [
    {
     "name": "stdout",
     "output_type": "stream",
     "text": [
      "[500, 23, 45, 130, 78, 90, 12, 1000]\n"
     ]
    }
   ],
   "source": [
    "liste[3] = liste[3] * 2\n",
    "print(liste)"
   ]
  }
 ],
 "metadata": {
  "kernelspec": {
   "display_name": "Python 3",
   "language": "python",
   "name": "python3"
  },
  "language_info": {
   "codemirror_mode": {
    "name": "ipython",
    "version": 3
   },
   "file_extension": ".py",
   "mimetype": "text/x-python",
   "name": "python",
   "nbconvert_exporter": "python",
   "pygments_lexer": "ipython3",
   "version": "3.12.7"
  }
 },
 "nbformat": 4,
 "nbformat_minor": 2
}
