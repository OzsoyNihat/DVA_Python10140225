{
 "cells": [
  {
   "cell_type": "code",
   "execution_count": 11,
   "metadata": {},
   "outputs": [
    {
     "name": "stdout",
     "output_type": "stream",
     "text": [
      "1-2-3\n",
      "1-0\n"
     ]
    }
   ],
   "source": [
    "def rakamlar_arasi_tire_ekle(sayi):\n",
    "    return \"-\".join(str(sayi))\n",
    "\n",
    "\n",
    "test_sayilari = [123, 10]\n",
    "\n",
    "for sayi in test_sayilari:\n",
    "    print(rakamlar_arasi_tire_ekle(sayi))\n"
   ]
  },
  {
   "cell_type": "code",
   "execution_count": 12,
   "metadata": {},
   "outputs": [
    {
     "name": "stdout",
     "output_type": "stream",
     "text": [
      "1-2-3\n",
      "1-0\n",
      "1-2-3-4-5-6-7-8-9\n"
     ]
    }
   ],
   "source": [
    "test_sayilari = [123, 10, 123456789]\n",
    "\n",
    "for sayi in test_sayilari:\n",
    "    print(rakamlar_arasi_tire_ekle(sayi))\n"
   ]
  },
  {
   "cell_type": "code",
   "execution_count": 13,
   "metadata": {},
   "outputs": [],
   "source": [
    "#1. 11 hane\n",
    "#2. başlangıç sıfırandan farklı\n",
    "#3. 1,3,5,7,9 toplamının 7 katının, 2,4,6,8 toplamına farkının modu 10 ' u 10. haneyi vermeli\n",
    "#4. 1,2,3,4,5,6,7,8,9,10. hanelerdeki sayıların toplamının 10 a göre modu 11. haneyi vermeli python programlama dilinde kodları"
   ]
  },
  {
   "cell_type": "code",
   "execution_count": 14,
   "metadata": {},
   "outputs": [
    {
     "name": "stdout",
     "output_type": "stream",
     "text": [
      "Oluşturulan 11 Haneli Sayı: 49626141834\n",
      "Formatlı Çıktı: 4-9-6-2-6-1-4-1-8-3-4\n"
     ]
    }
   ],
   "source": [
    "import random\n",
    "\n",
    "def mod_10_hane_bul(rakamlar):\n",
    "    toplam_tek = sum(rakamlar[i] for i in range(0, 9, 2))  # 1,3,5,7,9. haneler (index 0,2,4,6,8)\n",
    "    toplam_cift = sum(rakamlar[i] for i in range(1, 8, 2))  # 2,4,6,8. haneler (index 1,3,5,7)\n",
    "    return (7 * toplam_tek - toplam_cift) % 10  # 10. hane\n",
    "\n",
    "def mod_11_hane_bul(rakamlar):\n",
    "    return sum(rakamlar) % 10  # 11. hane\n",
    "\n",
    "def rastgele_11_haneli_sayi_uret():\n",
    "    rakamlar = [random.randint(1, 9)]  # İlk hane 1-9 arasında olmalı (0 olamaz)\n",
    "    rakamlar += [random.randint(0, 9) for _ in range(8)]  # 2-9. haneleri rastgele oluştur\n",
    "    \n",
    "    rakamlar.append(mod_10_hane_bul(rakamlar))  # 10. hane kuralına göre hesaplanıyor\n",
    "    rakamlar.append(mod_11_hane_bul(rakamlar))  # 11. hane kuralına göre hesaplanıyor\n",
    "    \n",
    "    return \"\".join(map(str, rakamlar))  # Listeyi string olarak döndür\n",
    "\n",
    "# Üretilen sayıyı al ve istenen formatta yazdır\n",
    "sayi = rastgele_11_haneli_sayi_uret()\n",
    "print(\"Oluşturulan 11 Haneli Sayı:\", sayi)\n",
    "print(\"Formatlı Çıktı:\", \"-\".join(sayi))\n"
   ]
  },
  {
   "cell_type": "code",
   "execution_count": 15,
   "metadata": {},
   "outputs": [],
   "source": [
    "# Soru 6:\n",
    "# 1- SQL Injection Tespiti\n",
    "# Bir SQL sorgusunda zararlı bir giriş olup olmadığını kontrol eden bir fonksiyon yazın.\n",
    "# 2- IP Adresi Doğrulama\n",
    "# Kullanıcıdan bir IP adresi alarak geçerli bir IPv4 adresi olup olmadığını kontrol edin.\n",
    "# 3- IBAN Doğrulama\n",
    "# Kullanıcıdan bir IBAN adresi alarak geçerli bir IBAN adresi olup olmadığını kontrol edin."
   ]
  },
  {
   "cell_type": "code",
   "execution_count": 16,
   "metadata": {},
   "outputs": [
    {
     "ename": "KeyboardInterrupt",
     "evalue": "",
     "output_type": "error",
     "traceback": [
      "\u001b[0;31m---------------------------------------------------------------------------\u001b[0m",
      "\u001b[0;31mKeyboardInterrupt\u001b[0m                         Traceback (most recent call last)",
      "Cell \u001b[0;32mIn[16], line 1\u001b[0m\n\u001b[0;32m----> 1\u001b[0m \u001b[38;5;28;01mimport\u001b[39;00m \u001b[38;5;21;01mre\u001b[39;00m\n\u001b[1;32m      3\u001b[0m \u001b[38;5;28;01mdef\u001b[39;00m \u001b[38;5;21msql_injection_kontrolu\u001b[39m(girdi):\n\u001b[1;32m      4\u001b[0m     \u001b[38;5;66;03m# Yaygın SQL Injection ifadeleri\u001b[39;00m\n\u001b[1;32m      5\u001b[0m     zararli_kelime_listesi \u001b[38;5;241m=\u001b[39m [\n\u001b[1;32m      6\u001b[0m         \u001b[38;5;124m\"\u001b[39m\u001b[38;5;124mDROP TABLE\u001b[39m\u001b[38;5;124m\"\u001b[39m, \u001b[38;5;124m\"\u001b[39m\u001b[38;5;124mSELECT *\u001b[39m\u001b[38;5;124m\"\u001b[39m, \u001b[38;5;124m\"\u001b[39m\u001b[38;5;124mINSERT INTO\u001b[39m\u001b[38;5;124m\"\u001b[39m, \u001b[38;5;124m\"\u001b[39m\u001b[38;5;124mDELETE FROM\u001b[39m\u001b[38;5;124m\"\u001b[39m, \n\u001b[1;32m      7\u001b[0m         \u001b[38;5;124m\"\u001b[39m\u001b[38;5;124mUPDATE\u001b[39m\u001b[38;5;124m\"\u001b[39m, \u001b[38;5;124m\"\u001b[39m\u001b[38;5;124m--\u001b[39m\u001b[38;5;124m\"\u001b[39m, \u001b[38;5;124m\"\u001b[39m\u001b[38;5;124m;\u001b[39m\u001b[38;5;124m\"\u001b[39m, \u001b[38;5;124m\"\u001b[39m\u001b[38;5;124m'\u001b[39m\u001b[38;5;124m OR \u001b[39m\u001b[38;5;124m'\u001b[39m\u001b[38;5;124m1\u001b[39m\u001b[38;5;124m'\u001b[39m\u001b[38;5;124m=\u001b[39m\u001b[38;5;124m'\u001b[39m\u001b[38;5;124m1\u001b[39m\u001b[38;5;124m\"\u001b[39m, \u001b[38;5;124m\"\u001b[39m\u001b[38;5;124mxp_cmdshell\u001b[39m\u001b[38;5;124m\"\u001b[39m, \u001b[38;5;124m\"\u001b[39m\u001b[38;5;124mUNION SELECT\u001b[39m\u001b[38;5;124m\"\u001b[39m\n\u001b[1;32m      8\u001b[0m     ]\n",
      "File \u001b[0;32m<stringsource>:69\u001b[0m, in \u001b[0;36mcfunc.to_py.__Pyx_CFunc_b0409f__29_pydevd_sys_monitoring_cython_object__lParen__etc_to_py_4code_4line.wrap\u001b[0;34m()\u001b[0m\n",
      "File \u001b[0;32m_pydevd_sys_monitoring\\\\_pydevd_sys_monitoring_cython.pyx:1429\u001b[0m, in \u001b[0;36m_pydevd_sys_monitoring_cython._line_event\u001b[0;34m()\u001b[0m\n",
      "File \u001b[0;32m_pydevd_sys_monitoring\\\\_pydevd_sys_monitoring_cython.pyx:1471\u001b[0m, in \u001b[0;36m_pydevd_sys_monitoring_cython._internal_line_event\u001b[0;34m()\u001b[0m\n",
      "File \u001b[0;32m_pydevd_sys_monitoring\\\\_pydevd_sys_monitoring_cython.pyx:1278\u001b[0m, in \u001b[0;36m_pydevd_sys_monitoring_cython._stop_on_breakpoint\u001b[0;34m()\u001b[0m\n",
      "File \u001b[0;32m_pydevd_sys_monitoring\\\\_pydevd_sys_monitoring_cython.pyx:1906\u001b[0m, in \u001b[0;36m_pydevd_sys_monitoring_cython._do_wait_suspend\u001b[0;34m()\u001b[0m\n",
      "File \u001b[0;32m~/.pyenv/versions/3.12.7/lib/python3.12/site-packages/debugpy/_vendored/pydevd/pydevd.py:2197\u001b[0m, in \u001b[0;36mPyDB.do_wait_suspend\u001b[0;34m(self, thread, frame, event, arg, exception_type)\u001b[0m\n\u001b[1;32m   2194\u001b[0m             from_this_thread\u001b[38;5;241m.\u001b[39mappend(frame_custom_thread_id)\n\u001b[1;32m   2196\u001b[0m     \u001b[38;5;28;01mwith\u001b[39;00m \u001b[38;5;28mself\u001b[39m\u001b[38;5;241m.\u001b[39m_threads_suspended_single_notification\u001b[38;5;241m.\u001b[39mnotify_thread_suspended(thread_id, thread, stop_reason):\n\u001b[0;32m-> 2197\u001b[0m         keep_suspended \u001b[38;5;241m=\u001b[39m \u001b[38;5;28;43mself\u001b[39;49m\u001b[38;5;241;43m.\u001b[39;49m\u001b[43m_do_wait_suspend\u001b[49m\u001b[43m(\u001b[49m\u001b[43mthread\u001b[49m\u001b[43m,\u001b[49m\u001b[43m \u001b[49m\u001b[43mframe\u001b[49m\u001b[43m,\u001b[49m\u001b[43m \u001b[49m\u001b[43mevent\u001b[49m\u001b[43m,\u001b[49m\u001b[43m \u001b[49m\u001b[43marg\u001b[49m\u001b[43m,\u001b[49m\u001b[43m \u001b[49m\u001b[43mtrace_suspend_type\u001b[49m\u001b[43m,\u001b[49m\u001b[43m \u001b[49m\u001b[43mfrom_this_thread\u001b[49m\u001b[43m,\u001b[49m\u001b[43m \u001b[49m\u001b[43mframes_tracker\u001b[49m\u001b[43m)\u001b[49m\n\u001b[1;32m   2199\u001b[0m frames_list \u001b[38;5;241m=\u001b[39m \u001b[38;5;28;01mNone\u001b[39;00m\n\u001b[1;32m   2201\u001b[0m \u001b[38;5;28;01mif\u001b[39;00m keep_suspended:\n\u001b[1;32m   2202\u001b[0m     \u001b[38;5;66;03m# This means that we should pause again after a set next statement.\u001b[39;00m\n",
      "File \u001b[0;32m~/.pyenv/versions/3.12.7/lib/python3.12/site-packages/debugpy/_vendored/pydevd/pydevd.py:2266\u001b[0m, in \u001b[0;36mPyDB._do_wait_suspend\u001b[0;34m(self, thread, frame, event, arg, trace_suspend_type, from_this_thread, frames_tracker)\u001b[0m\n\u001b[1;32m   2263\u001b[0m                 queue\u001b[38;5;241m.\u001b[39mput(internal_cmd)\n\u001b[1;32m   2264\u001b[0m                 wait_timeout \u001b[38;5;241m=\u001b[39m TIMEOUT_FAST\n\u001b[0;32m-> 2266\u001b[0m         \u001b[43mnotify_event\u001b[49m\u001b[38;5;241;43m.\u001b[39;49m\u001b[43mwait\u001b[49m\u001b[43m(\u001b[49m\u001b[43mwait_timeout\u001b[49m\u001b[43m)\u001b[49m\n\u001b[1;32m   2267\u001b[0m         notify_event\u001b[38;5;241m.\u001b[39mclear()\n\u001b[1;32m   2269\u001b[0m \u001b[38;5;28;01mfinally\u001b[39;00m:\n",
      "File \u001b[0;32m~/.pyenv/versions/3.12.7/lib/python3.12/threading.py:655\u001b[0m, in \u001b[0;36mEvent.wait\u001b[0;34m(self, timeout)\u001b[0m\n\u001b[1;32m    653\u001b[0m signaled \u001b[38;5;241m=\u001b[39m \u001b[38;5;28mself\u001b[39m\u001b[38;5;241m.\u001b[39m_flag\n\u001b[1;32m    654\u001b[0m \u001b[38;5;28;01mif\u001b[39;00m \u001b[38;5;129;01mnot\u001b[39;00m signaled:\n\u001b[0;32m--> 655\u001b[0m     signaled \u001b[38;5;241m=\u001b[39m \u001b[38;5;28;43mself\u001b[39;49m\u001b[38;5;241;43m.\u001b[39;49m\u001b[43m_cond\u001b[49m\u001b[38;5;241;43m.\u001b[39;49m\u001b[43mwait\u001b[49m\u001b[43m(\u001b[49m\u001b[43mtimeout\u001b[49m\u001b[43m)\u001b[49m\n\u001b[1;32m    656\u001b[0m \u001b[38;5;28;01mreturn\u001b[39;00m signaled\n",
      "File \u001b[0;32m~/.pyenv/versions/3.12.7/lib/python3.12/threading.py:359\u001b[0m, in \u001b[0;36mCondition.wait\u001b[0;34m(self, timeout)\u001b[0m\n\u001b[1;32m    357\u001b[0m \u001b[38;5;28;01melse\u001b[39;00m:\n\u001b[1;32m    358\u001b[0m     \u001b[38;5;28;01mif\u001b[39;00m timeout \u001b[38;5;241m>\u001b[39m \u001b[38;5;241m0\u001b[39m:\n\u001b[0;32m--> 359\u001b[0m         gotit \u001b[38;5;241m=\u001b[39m \u001b[43mwaiter\u001b[49m\u001b[38;5;241;43m.\u001b[39;49m\u001b[43macquire\u001b[49m\u001b[43m(\u001b[49m\u001b[38;5;28;43;01mTrue\u001b[39;49;00m\u001b[43m,\u001b[49m\u001b[43m \u001b[49m\u001b[43mtimeout\u001b[49m\u001b[43m)\u001b[49m\n\u001b[1;32m    360\u001b[0m     \u001b[38;5;28;01melse\u001b[39;00m:\n\u001b[1;32m    361\u001b[0m         gotit \u001b[38;5;241m=\u001b[39m waiter\u001b[38;5;241m.\u001b[39macquire(\u001b[38;5;28;01mFalse\u001b[39;00m)\n",
      "\u001b[0;31mKeyboardInterrupt\u001b[0m: "
     ]
    }
   ],
   "source": [
    "import re\n",
    "\n",
    "def sql_injection_kontrolu(girdi):\n",
    "    # Yaygın SQL Injection ifadeleri\n",
    "    zararli_kelime_listesi = [\n",
    "        \"DROP TABLE\", \"SELECT *\", \"INSERT INTO\", \"DELETE FROM\", \n",
    "        \"UPDATE\", \"--\", \";\", \"' OR '1'='1\", \"xp_cmdshell\", \"UNION SELECT\"\n",
    "    ]\n",
    "    \n",
    "    # Girdiyi büyük harfe çevirerek karşılaştırma yap\n",
    "    girdi_upper = girdi.upper()\n",
    "\n",
    "    # Tehlikeli SQL komutlarını içerip içermediğini kontrol et\n",
    "    for kelime in zararli_kelime_listesi:\n",
    "        if kelime in girdi_upper:\n",
    "            return \"SQL Injection Tespit Edildi! 🚨\"\n",
    "    \n",
    "    return \"Güvenli giriş. ✅\"\n",
    "\n",
    "# Örnek kullanım\n",
    "girdi1 = \"SELECT * FROM users WHERE username='admin' OR '1'='1'\"\n",
    "girdi2 = \"Normal bir giriş metni\"\n",
    "\n",
    "print(sql_injection_kontrolu(girdi1))  # Zararlı giriş\n",
    "print(sql_injection_kontrolu(girdi2))  # Güvenli giriş\n"
   ]
  },
  {
   "cell_type": "code",
   "execution_count": 8,
   "metadata": {},
   "outputs": [
    {
     "name": "stdout",
     "output_type": "stream",
     "text": [
      "Geçerli IPv4 adresi ✅\n",
      "Geçersiz IP adresi ❌\n"
     ]
    }
   ],
   "source": [
    "import re\n",
    "\n",
    "def ip_adresi_dogrula(ip):\n",
    "    # IPv4 adresi için regex deseni\n",
    "    ip_pattern = r\"^(25[0-5]|2[0-4][0-9]|1?[0-9][0-9]?)\\.(25[0-5]|2[0-4][0-9]|1?[0-9][0-9]?)\\.(25[0-5]|2[0-4][0-9]|1?[0-9][0-9]?)\\.(25[0-5]|2[0-4][0-9]|1?[0-9][0-9]?)$\"\n",
    "\n",
    "    if re.match(ip_pattern, ip):\n",
    "        return \"Geçerli IPv4 adresi ✅\"\n",
    "    else:\n",
    "        return \"Geçersiz IP adresi ❌\"\n",
    "\n",
    "# Örnek kullanım\n",
    "print(ip_adresi_dogrula(\"192.168.1.1\"))  # Geçerli IP\n",
    "print(ip_adresi_dogrula(\"999.999.999.999\"))  # Geçersiz IP\n"
   ]
  },
  {
   "cell_type": "code",
   "execution_count": 9,
   "metadata": {},
   "outputs": [
    {
     "name": "stdout",
     "output_type": "stream",
     "text": [
      "Geçerli IBAN ✅\n",
      "Geçersiz IBAN ❌\n"
     ]
    }
   ],
   "source": [
    "import string\n",
    "\n",
    "def iban_dogrula(iban):\n",
    "    iban = iban.replace(\" \", \"\")  # Boşlukları kaldır\n",
    "\n",
    "    if not (15 <= len(iban) <= 34):  # IBAN uzunluk kontrolü\n",
    "        return \"Geçersiz IBAN uzunluğu ❌\"\n",
    "\n",
    "    if not iban[:2].isalpha() or not iban[2:].isdigit():  # İlk 2 karakter harf, geri kalanı rakam mı?\n",
    "        return \"Geçersiz IBAN formatı ❌\"\n",
    "\n",
    "    # IBAN kontrol algoritması\n",
    "    iban_yeni = iban[4:] + iban[:4]  # İlk 4 karakteri sona al\n",
    "    iban_rakam = \"\".join(str(string.ascii_uppercase.index(ch) + 10) if ch.isalpha() else ch for ch in iban_yeni)\n",
    "\n",
    "    if int(iban_rakam) % 97 == 1:\n",
    "        return \"Geçerli IBAN ✅\"\n",
    "    else:\n",
    "        return \"Geçersiz IBAN ❌\"\n",
    "\n",
    "# Örnek kullanım\n",
    "print(iban_dogrula(\"TR330006100519786457841326\"))  # Geçerli IBAN\n",
    "print(iban_dogrula(\"TR123456789012345678901234\"))  # Geçersiz IBAN\n"
   ]
  },
  {
   "cell_type": "code",
   "execution_count": 10,
   "metadata": {},
   "outputs": [
    {
     "name": "stdout",
     "output_type": "stream",
     "text": [
      "Geçersiz IBAN uzunluğu ❌\n"
     ]
    }
   ],
   "source": [
    "import string\n",
    "\n",
    "def iban_dogrula(iban):\n",
    "    iban = iban.replace(\" \", \"\").upper()  # Boşlukları kaldır ve büyük harfe çevir\n",
    "\n",
    "    if not (15 <= len(iban) <= 34):  # IBAN uzunluk kontrolü\n",
    "        return \"Geçersiz IBAN uzunluğu ❌\"\n",
    "\n",
    "    if not iban[:2].isalpha() or not iban[2:].isdigit():  # İlk 2 karakter harf, geri kalanı rakam mı?\n",
    "        return \"Geçersiz IBAN formatı ❌\"\n",
    "\n",
    "    # IBAN kontrol algoritması\n",
    "    iban_yeni = iban[4:] + iban[:4]  # İlk 4 karakteri sona al\n",
    "    iban_rakam = \"\".join(str(string.ascii_uppercase.index(ch) + 10) if ch.isalpha() else ch for ch in iban_yeni)\n",
    "\n",
    "    if int(iban_rakam) % 97 == 1:\n",
    "        return \"Geçerli IBAN ✅\"\n",
    "    else:\n",
    "        return \"Geçersiz IBAN ❌\"\n",
    "\n",
    "# Kullanıcıdan giriş al\n",
    "kullanici_iban = input(\"Lütfen IBAN numaranızı girin: \").strip()\n",
    "sonuc = iban_dogrula(kullanici_iban)\n",
    "print(sonuc)\n"
   ]
  },
  {
   "cell_type": "code",
   "execution_count": null,
   "metadata": {},
   "outputs": [],
   "source": [
    "# Soru 6:\n",
    "# class Sinif:\n",
    "#     sinifOzelligi = \"Sınıf Özelliği\"\n",
    "#     def __init__(self,a):\n",
    "#        self.ornekOzellik = a\n",
    "    \n",
    "#     def ornekMethod(self):\n",
    "#         print(self.ornekOzellik)\n",
    "\n",
    "#     def sinifMethod(cls):\n",
    "#         print(cls.sinifOzelligi)\n",
    "\n",
    "# yukarıda yer alan örnekten faydalanarak Cokgen adında bir sınıf üretiniz\n",
    "# bu sınıf üzerinden üçgen ve kare adında iki nesne üretip \n",
    "# bu nesnelere ait kenar sayısı ve iç açı toplamını ekrana yazdırınız"
   ]
  },
  {
   "cell_type": "code",
   "execution_count": 17,
   "metadata": {},
   "outputs": [
    {
     "name": "stdout",
     "output_type": "stream",
     "text": [
      "Üçgen Bilgileri:\n",
      "Kenar Sayısı: 3, İç Açı Toplamı: 180°\n",
      "\n",
      "Kare Bilgileri:\n",
      "Kenar Sayısı: 4, İç Açı Toplamı: 360°\n"
     ]
    }
   ],
   "source": [
    "class Cokgen:\n",
    "    # Çokgenlerin iç açılar toplamı formülü: (kenar_sayisi - 2) * 180\n",
    "    def __init__(self, kenar_sayisi):\n",
    "        self.kenar_sayisi = kenar_sayisi\n",
    "        self.ic_aci_toplami = (kenar_sayisi - 2) * 180  # İç açı toplamı formülü\n",
    "    \n",
    "    def bilgileri_goster(self):\n",
    "        print(f\"Kenar Sayısı: {self.kenar_sayisi}, İç Açı Toplamı: {self.ic_aci_toplami}°\")\n",
    "\n",
    "# Üçgen (3 kenarlı) nesnesi oluştur\n",
    "ucgen = Cokgen(3)\n",
    "\n",
    "# Kare (4 kenarlı) nesnesi oluştur\n",
    "kare = Cokgen(4)\n",
    "\n",
    "# Bilgileri ekrana yazdır\n",
    "print(\"Üçgen Bilgileri:\")\n",
    "ucgen.bilgileri_goster()\n",
    "\n",
    "print(\"\\nKare Bilgileri:\")\n",
    "kare.bilgileri_goster()\n"
   ]
  },
  {
   "cell_type": "code",
   "execution_count": 20,
   "metadata": {},
   "outputs": [
    {
     "name": "stdout",
     "output_type": "stream",
     "text": [
      "Kenar Sayısı: 5, İç Açı Toplamı: 540°\n"
     ]
    }
   ],
   "source": [
    "class Cokgen:\n",
    "    def __init__(self, kenar_sayisi):\n",
    "        self.kenar_sayisi = kenar_sayisi\n",
    "        self.ic_aci_toplami = (kenar_sayisi - 2) * 180  # İç açı toplamı formülü\n",
    "    \n",
    "    def bilgileri_goster(self):\n",
    "        print(f\"Kenar Sayısı: {self.kenar_sayisi}, İç Açı Toplamı: {self.ic_aci_toplami}°\")\n",
    "\n",
    "# Kullanıcıdan giriş al\n",
    "kenar_sayisi = int(input(\"Lütfen çokgenin kenar sayısını girin: \"))\n",
    "\n",
    "# Çokgen nesnesini oluştur\n",
    "cokgen = Cokgen(kenar_sayisi)\n",
    "\n",
    "# Bilgileri ekrana yazdır\n",
    "cokgen.bilgileri_goster()\n"
   ]
  }
 ],
 "metadata": {
  "kernelspec": {
   "display_name": "Python 3",
   "language": "python",
   "name": "python3"
  },
  "language_info": {
   "codemirror_mode": {
    "name": "ipython",
    "version": 3
   },
   "file_extension": ".py",
   "mimetype": "text/x-python",
   "name": "python",
   "nbconvert_exporter": "python",
   "pygments_lexer": "ipython3",
   "version": "3.12.7"
  }
 },
 "nbformat": 4,
 "nbformat_minor": 2
}
