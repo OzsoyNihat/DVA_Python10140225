{
 "cells": [
  {
   "cell_type": "code",
   "execution_count": 11,
   "metadata": {},
   "outputs": [
    {
     "name": "stdout",
     "output_type": "stream",
     "text": [
      "1-2-3\n",
      "1-0\n"
     ]
    }
   ],
   "source": [
    "def rakamlar_arasi_tire_ekle(sayi):\n",
    "    return \"-\".join(str(sayi))\n",
    "\n",
    "\n",
    "test_sayilari = [123, 10]\n",
    "\n",
    "for sayi in test_sayilari:\n",
    "    print(rakamlar_arasi_tire_ekle(sayi))\n"
   ]
  },
  {
   "cell_type": "code",
   "execution_count": 12,
   "metadata": {},
   "outputs": [
    {
     "name": "stdout",
     "output_type": "stream",
     "text": [
      "1-2-3\n",
      "1-0\n",
      "1-2-3-4-5-6-7-8-9\n"
     ]
    }
   ],
   "source": [
    "test_sayilari = [123, 10, 123456789]\n",
    "\n",
    "for sayi in test_sayilari:\n",
    "    print(rakamlar_arasi_tire_ekle(sayi))\n"
   ]
  },
  {
   "cell_type": "code",
   "execution_count": 13,
   "metadata": {},
   "outputs": [],
   "source": [
    "#1. 11 hane\n",
    "#2. başlangıç sıfırandan farklı\n",
    "#3. 1,3,5,7,9 toplamının 7 katının, 2,4,6,8 toplamına farkının modu 10 ' u 10. haneyi vermeli\n",
    "#4. 1,2,3,4,5,6,7,8,9,10. hanelerdeki sayıların toplamının 10 a göre modu 11. haneyi vermeli python programlama dilinde kodları"
   ]
  },
  {
   "cell_type": "code",
   "execution_count": 14,
   "metadata": {},
   "outputs": [
    {
     "name": "stdout",
     "output_type": "stream",
     "text": [
      "Oluşturulan 11 Haneli Sayı: 49626141834\n",
      "Formatlı Çıktı: 4-9-6-2-6-1-4-1-8-3-4\n"
     ]
    }
   ],
   "source": [
    "import random\n",
    "\n",
    "def mod_10_hane_bul(rakamlar):\n",
    "    toplam_tek = sum(rakamlar[i] for i in range(0, 9, 2))  # 1,3,5,7,9. haneler (index 0,2,4,6,8)\n",
    "    toplam_cift = sum(rakamlar[i] for i in range(1, 8, 2))  # 2,4,6,8. haneler (index 1,3,5,7)\n",
    "    return (7 * toplam_tek - toplam_cift) % 10  # 10. hane\n",
    "\n",
    "def mod_11_hane_bul(rakamlar):\n",
    "    return sum(rakamlar) % 10  # 11. hane\n",
    "\n",
    "def rastgele_11_haneli_sayi_uret():\n",
    "    rakamlar = [random.randint(1, 9)]  # İlk hane 1-9 arasında olmalı (0 olamaz)\n",
    "    rakamlar += [random.randint(0, 9) for _ in range(8)]  # 2-9. haneleri rastgele oluştur\n",
    "    \n",
    "    rakamlar.append(mod_10_hane_bul(rakamlar))  # 10. hane kuralına göre hesaplanıyor\n",
    "    rakamlar.append(mod_11_hane_bul(rakamlar))  # 11. hane kuralına göre hesaplanıyor\n",
    "    \n",
    "    return \"\".join(map(str, rakamlar))  # Listeyi string olarak döndür\n",
    "\n",
    "# Üretilen sayıyı al ve istenen formatta yazdır\n",
    "sayi = rastgele_11_haneli_sayi_uret()\n",
    "print(\"Oluşturulan 11 Haneli Sayı:\", sayi)\n",
    "print(\"Formatlı Çıktı:\", \"-\".join(sayi))\n"
   ]
  },
  {
   "cell_type": "code",
   "execution_count": 15,
   "metadata": {},
   "outputs": [],
   "source": [
    "# Soru 6:\n",
    "# 1- SQL Injection Tespiti\n",
    "# Bir SQL sorgusunda zararlı bir giriş olup olmadığını kontrol eden bir fonksiyon yazın.\n",
    "# 2- IP Adresi Doğrulama\n",
    "# Kullanıcıdan bir IP adresi alarak geçerli bir IPv4 adresi olup olmadığını kontrol edin.\n",
    "# 3- IBAN Doğrulama\n",
    "# Kullanıcıdan bir IBAN adresi alarak geçerli bir IBAN adresi olup olmadığını kontrol edin."
   ]
  },
  {
   "cell_type": "code",
   "execution_count": null,
   "metadata": {},
   "outputs": [],
   "source": [
    "import re\n",
    "\n",
    "def sql_injection_kontrolu(girdi):\n",
    "    # Yaygın SQL Injection ifadeleri\n",
    "    zararli_kelime_listesi = [\n",
    "        \"DROP TABLE\", \"SELECT *\", \"INSERT INTO\", \"DELETE FROM\", \n",
    "        \"UPDATE\", \"--\", \";\", \"' OR '1'='1\", \"xp_cmdshell\", \"UNION SELECT\"\n",
    "    ]\n",
    "    \n",
    "    # Girdiyi büyük harfe çevirerek karşılaştırma yap\n",
    "    girdi_upper = girdi.upper()\n",
    "\n",
    "    # Tehlikeli SQL komutlarını içerip içermediğini kontrol et\n",
    "    for kelime in zararli_kelime_listesi:\n",
    "        if kelime in girdi_upper:\n",
    "            return \"SQL Injection Tespit Edildi! 🚨\"\n",
    "    \n",
    "    return \"Güvenli giriş. ✅\"\n",
    "\n",
    "# Örnek kullanım\n",
    "girdi1 = \"SELECT * FROM users WHERE username='admin' OR '1'='1'\"\n",
    "girdi2 = \"Normal bir giriş metni\"\n",
    "\n",
    "print(sql_injection_kontrolu(girdi1))  # Zararlı giriş\n",
    "print(sql_injection_kontrolu(girdi2))  # Güvenli giriş\n"
   ]
  },
  {
   "cell_type": "code",
   "execution_count": 8,
   "metadata": {},
   "outputs": [
    {
     "name": "stdout",
     "output_type": "stream",
     "text": [
      "Geçerli IPv4 adresi ✅\n",
      "Geçersiz IP adresi ❌\n"
     ]
    }
   ],
   "source": [
    "import re\n",
    "\n",
    "def ip_adresi_dogrula(ip):\n",
    "    # IPv4 adresi için regex deseni\n",
    "    ip_pattern = r\"^(25[0-5]|2[0-4][0-9]|1?[0-9][0-9]?)\\.(25[0-5]|2[0-4][0-9]|1?[0-9][0-9]?)\\.(25[0-5]|2[0-4][0-9]|1?[0-9][0-9]?)\\.(25[0-5]|2[0-4][0-9]|1?[0-9][0-9]?)$\"\n",
    "\n",
    "    if re.match(ip_pattern, ip):\n",
    "        return \"Geçerli IPv4 adresi ✅\"\n",
    "    else:\n",
    "        return \"Geçersiz IP adresi ❌\"\n",
    "\n",
    "# Örnek kullanım\n",
    "print(ip_adresi_dogrula(\"192.168.1.1\"))  # Geçerli IP\n",
    "print(ip_adresi_dogrula(\"999.999.999.999\"))  # Geçersiz IP\n"
   ]
  },
  {
   "cell_type": "code",
   "execution_count": 9,
   "metadata": {},
   "outputs": [
    {
     "name": "stdout",
     "output_type": "stream",
     "text": [
      "Geçerli IBAN ✅\n",
      "Geçersiz IBAN ❌\n"
     ]
    }
   ],
   "source": [
    "import string\n",
    "\n",
    "def iban_dogrula(iban):\n",
    "    iban = iban.replace(\" \", \"\")  # Boşlukları kaldır\n",
    "\n",
    "    if not (15 <= len(iban) <= 34):  # IBAN uzunluk kontrolü\n",
    "        return \"Geçersiz IBAN uzunluğu ❌\"\n",
    "\n",
    "    if not iban[:2].isalpha() or not iban[2:].isdigit():  # İlk 2 karakter harf, geri kalanı rakam mı?\n",
    "        return \"Geçersiz IBAN formatı ❌\"\n",
    "\n",
    "    # IBAN kontrol algoritması\n",
    "    iban_yeni = iban[4:] + iban[:4]  # İlk 4 karakteri sona al\n",
    "    iban_rakam = \"\".join(str(string.ascii_uppercase.index(ch) + 10) if ch.isalpha() else ch for ch in iban_yeni)\n",
    "\n",
    "    if int(iban_rakam) % 97 == 1:\n",
    "        return \"Geçerli IBAN ✅\"\n",
    "    else:\n",
    "        return \"Geçersiz IBAN ❌\"\n",
    "\n",
    "# Örnek kullanım\n",
    "print(iban_dogrula(\"TR330006100519786457841326\"))  # Geçerli IBAN\n",
    "print(iban_dogrula(\"TR123456789012345678901234\"))  # Geçersiz IBAN\n"
   ]
  },
  {
   "cell_type": "code",
   "execution_count": 10,
   "metadata": {},
   "outputs": [
    {
     "name": "stdout",
     "output_type": "stream",
     "text": [
      "Geçersiz IBAN uzunluğu ❌\n"
     ]
    }
   ],
   "source": [
    "import string\n",
    "\n",
    "def iban_dogrula(iban):\n",
    "    iban = iban.replace(\" \", \"\").upper()  # Boşlukları kaldır ve büyük harfe çevir\n",
    "\n",
    "    if not (15 <= len(iban) <= 34):  # IBAN uzunluk kontrolü\n",
    "        return \"Geçersiz IBAN uzunluğu ❌\"\n",
    "\n",
    "    if not iban[:2].isalpha() or not iban[2:].isdigit():  # İlk 2 karakter harf, geri kalanı rakam mı?\n",
    "        return \"Geçersiz IBAN formatı ❌\"\n",
    "\n",
    "    # IBAN kontrol algoritması\n",
    "    iban_yeni = iban[4:] + iban[:4]  # İlk 4 karakteri sona al\n",
    "    iban_rakam = \"\".join(str(string.ascii_uppercase.index(ch) + 10) if ch.isalpha() else ch for ch in iban_yeni)\n",
    "\n",
    "    if int(iban_rakam) % 97 == 1:\n",
    "        return \"Geçerli IBAN ✅\"\n",
    "    else:\n",
    "        return \"Geçersiz IBAN ❌\"\n",
    "\n",
    "# Kullanıcıdan giriş al\n",
    "kullanici_iban = input(\"Lütfen IBAN numaranızı girin: \").strip()\n",
    "sonuc = iban_dogrula(kullanici_iban)\n",
    "print(sonuc)\n"
   ]
  }
 ],
 "metadata": {
  "kernelspec": {
   "display_name": "Python 3",
   "language": "python",
   "name": "python3"
  },
  "language_info": {
   "codemirror_mode": {
    "name": "ipython",
    "version": 3
   },
   "file_extension": ".py",
   "mimetype": "text/x-python",
   "name": "python",
   "nbconvert_exporter": "python",
   "pygments_lexer": "ipython3",
   "version": "3.12.7"
  }
 },
 "nbformat": 4,
 "nbformat_minor": 2
}
