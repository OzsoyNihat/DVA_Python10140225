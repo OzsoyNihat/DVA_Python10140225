{
 "cells": [
  {
   "cell_type": "code",
   "execution_count": 2,
   "metadata": {},
   "outputs": [
    {
     "name": "stdout",
     "output_type": "stream",
     "text": [
      "1-2-3\n",
      "1-0\n"
     ]
    }
   ],
   "source": [
    "def rakamlar_arasi_tire_ekle(sayi):\n",
    "    return \"-\".join(str(sayi))\n",
    "\n",
    "\n",
    "test_sayilari = [123, 10]\n",
    "\n",
    "for sayi in test_sayilari:\n",
    "    print(rakamlar_arasi_tire_ekle(sayi))\n"
   ]
  },
  {
   "cell_type": "code",
   "execution_count": 3,
   "metadata": {},
   "outputs": [
    {
     "name": "stdout",
     "output_type": "stream",
     "text": [
      "1-2-3\n",
      "1-0\n",
      "1-2-3-4-5-6-7-8-9\n"
     ]
    }
   ],
   "source": [
    "test_sayilari = [123, 10, 123456789]\n",
    "\n",
    "for sayi in test_sayilari:\n",
    "    print(rakamlar_arasi_tire_ekle(sayi))\n"
   ]
  },
  {
   "cell_type": "code",
   "execution_count": null,
   "metadata": {},
   "outputs": [],
   "source": [
    "#1. 11 hane\n",
    "#2. başlangıç sıfırandan farklı\n",
    "#3. 1,3,5,7,9 toplamının 7 katının, 2,4,6,8 toplamına farkının modu 10 ' u 10. haneyi vermeli\n",
    "#4. 1,2,3,4,5,6,7,8,9,10. hanelerdeki sayıların toplamının 10 a göre modu 11. haneyi vermeli python programlama dilinde kodları"
   ]
  },
  {
   "cell_type": "code",
   "execution_count": 6,
   "metadata": {},
   "outputs": [
    {
     "name": "stdout",
     "output_type": "stream",
     "text": [
      "Oluşturulan 11 Haneli Sayı: 29123235816\n",
      "Formatlı Çıktı: 2-9-1-2-3-2-3-5-8-1-6\n"
     ]
    }
   ],
   "source": [
    "import random\n",
    "\n",
    "def mod_10_hane_bul(rakamlar):\n",
    "    toplam_tek = sum(rakamlar[i] for i in range(0, 9, 2))  # 1,3,5,7,9. haneler (index 0,2,4,6,8)\n",
    "    toplam_cift = sum(rakamlar[i] for i in range(1, 8, 2))  # 2,4,6,8. haneler (index 1,3,5,7)\n",
    "    return (7 * toplam_tek - toplam_cift) % 10  # 10. hane\n",
    "\n",
    "def mod_11_hane_bul(rakamlar):\n",
    "    return sum(rakamlar) % 10  # 11. hane\n",
    "\n",
    "def rastgele_11_haneli_sayi_uret():\n",
    "    rakamlar = [random.randint(1, 9)]  # İlk hane 1-9 arasında olmalı (0 olamaz)\n",
    "    rakamlar += [random.randint(0, 9) for _ in range(8)]  # 2-9. haneleri rastgele oluştur\n",
    "    \n",
    "    rakamlar.append(mod_10_hane_bul(rakamlar))  # 10. hane kuralına göre hesaplanıyor\n",
    "    rakamlar.append(mod_11_hane_bul(rakamlar))  # 11. hane kuralına göre hesaplanıyor\n",
    "    \n",
    "    return \"\".join(map(str, rakamlar))  # Listeyi string olarak döndür\n",
    "\n",
    "# Üretilen sayıyı al ve istenen formatta yazdır\n",
    "sayi = rastgele_11_haneli_sayi_uret()\n",
    "print(\"Oluşturulan 11 Haneli Sayı:\", sayi)\n",
    "print(\"Formatlı Çıktı:\", \"-\".join(sayi))\n"
   ]
  }
 ],
 "metadata": {
  "kernelspec": {
   "display_name": "Python 3",
   "language": "python",
   "name": "python3"
  },
  "language_info": {
   "codemirror_mode": {
    "name": "ipython",
    "version": 3
   },
   "file_extension": ".py",
   "mimetype": "text/x-python",
   "name": "python",
   "nbconvert_exporter": "python",
   "pygments_lexer": "ipython3",
   "version": "3.12.7"
  }
 },
 "nbformat": 4,
 "nbformat_minor": 2
}
