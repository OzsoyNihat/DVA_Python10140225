{
 "cells": [
  {
   "cell_type": "code",
   "execution_count": null,
   "metadata": {},
   "outputs": [],
   "source": [
    "import sys\n",
    "from PyQt5.QtWidgets import QApplication, QWidget, QLabel, QPushButton, QLineEdit\n",
    "\n",
    "class Pencere(QWidget):\n",
    "    def __init__(self):\n",
    "        super().__init__()\n",
    "        self.init_ui()\n",
    "\n",
    "    def init_ui(self):\n",
    "        self.resize(500,500)\n",
    "        self.move(300,300)\n",
    "        self.setWindowTitle(\"ilk Pencere\")\n",
    "\n",
    "        self.label = QLabel(\"Örnek Yazı\",self)\n",
    "        self.label.setGeometry(10,10,200,20)\n",
    "        self.text = QLineEdit(\"Buraya yazı yazılacak\",self)\n",
    "        self.text.setGeometry(10,30,200,35)\n",
    "        self.dugme = QPushButton(\"Dugme\",self)\n",
    "        self.dugme.setGeometry(10,100,200,30)\n",
    "        self.dugme.clicked.connect(self.tiklandi)\n",
    "        \n",
    "    def tiklandi(self):\n",
    "        self.label.setText(self.text.text())\n",
    "app = QApplication(sys.argv)\n",
    "pencere = Pencere()\n",
    "pencere.show()\n",
    "sys.exit(app.exec_())"
   ]
  }
 ],
 "metadata": {
  "kernelspec": {
   "display_name": "Python 3",
   "language": "python",
   "name": "python3"
  },
  "language_info": {
   "name": "python",
   "version": "3.12.7"
  }
 },
 "nbformat": 4,
 "nbformat_minor": 2
}
